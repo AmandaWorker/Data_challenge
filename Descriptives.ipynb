{
 "cells": [
  {
   "cell_type": "markdown",
   "metadata": {},
   "source": [
    "# Descriptives"
   ]
  },
  {
   "cell_type": "code",
   "execution_count": 1,
   "metadata": {},
   "outputs": [],
   "source": [
    "import numpy as np\n",
    "import pandas as pd"
   ]
  },
  {
   "cell_type": "code",
   "execution_count": 2,
   "metadata": {},
   "outputs": [
    {
     "name": "stdout",
     "output_type": "stream",
     "text": [
      "        Date  Nitrogen Dioxide_ugm-3_LDN\n",
      "0 2017-01-01                   31.797561\n",
      "1 2017-01-02                   47.625581\n",
      "2 2017-01-03                   49.187805\n",
      "3 2017-01-04                   43.479070\n",
      "4 2017-01-05                   31.907500\n",
      "<class 'pandas.core.frame.DataFrame'>\n",
      "RangeIndex: 1339 entries, 0 to 1338\n",
      "Data columns (total 2 columns):\n",
      " #   Column                      Non-Null Count  Dtype         \n",
      "---  ------                      --------------  -----         \n",
      " 0   Date                        1339 non-null   datetime64[ns]\n",
      " 1   Nitrogen Dioxide_ugm-3_LDN  1339 non-null   float64       \n",
      "dtypes: datetime64[ns](1), float64(1)\n",
      "memory usage: 21.0 KB\n",
      "None\n"
     ]
    }
   ],
   "source": [
    "# Read in the air quality data (nitrogen dioxide)\n",
    "file = (\"Big Data Challenge_ Data and Challenge Statements/Data/Data for analysis/LDN_airquality.csv\")\n",
    "date = ['Date']\n",
    "london_air_quality = (\n",
    "    pd\n",
    "    .read_csv(file, \n",
    "              usecols = ['Date', 'Nitrogen Dioxide_ugm-3_LDN'], \n",
    "              parse_dates=date)\n",
    ")\n",
    "print(london_air_quality.head())\n",
    "print(london_air_quality.info())\n"
   ]
  },
  {
   "cell_type": "markdown",
   "metadata": {},
   "source": [
    "## How does nitrogen dioxide measured in London compare in 2020 to previous years?"
   ]
  },
  {
   "cell_type": "code",
   "execution_count": 5,
   "metadata": {},
   "outputs": [
    {
     "name": "stdout",
     "output_type": "stream",
     "text": [
      "The average nitrogen dioxide (ug m-3) measured in London by year is ...\n",
      "Year\n",
      "2017    44.395927\n",
      "2018    41.856348\n",
      "2019    38.989578\n",
      "2020    25.792083\n",
      "Name: Nitrogen Dioxide_ugm-3_LDN, dtype: float64\n",
      "Between 2017 and 2018 average annual nitrogen dioxide (ug m-3) in London changed by -5.72 percent\n",
      "Between 2018 and 2019 average annual nitrogen dioxide (ug m-3) in London changed by -6.85 percent\n",
      "Between 2019 and 2020 average annual nitrogen dioxide (ug m-3) in London changed by -33.85 percent\n",
      "NOTE: 2020 measures have not been completed nor ratified\n"
     ]
    }
   ],
   "source": [
    "# Average nitrogen dioxide in 2020 compared to previous years\n",
    "london_air_quality.loc[:,'Year'] = london_air_quality.loc[:,'Date'].dt.year\n",
    "london_air_quality.loc[:,'Month'] = london_air_quality.loc[:,'Date'].dt.month_name()\n",
    "\n",
    "avg_annual_NO2 = london_air_quality.groupby('Year')['Nitrogen Dioxide_ugm-3_LDN'].mean()\n",
    "\n",
    "pcnt_change_annual_NO2 = avg_annual_NO2.pct_change()\n",
    "\n",
    "print(\"The average nitrogen dioxide (ug m-3) measured in London by year is ...\")\n",
    "print(avg_annual_NO2)\n",
    "\n",
    "\n",
    "print(\"Between 2017 and 2018 average annual nitrogen dioxide (ug m-3) in London changed by %4.2f\" %(pcnt_change_annual_NO2.iloc[1]*100) + \" percent\")\n",
    "print(\"Between 2018 and 2019 average annual nitrogen dioxide (ug m-3) in London changed by %4.2f\" %(pcnt_change_annual_NO2.iloc[2]*100) + \" percent\")\n",
    "print(\"Between 2019 and 2020 average annual nitrogen dioxide (ug m-3) in London changed by %4.2f\" %(pcnt_change_annual_NO2.iloc[3]*100) + \" percent\")\n",
    "print(\"NOTE: 2020 measures have not been completed nor ratified\")"
   ]
  },
  {
   "cell_type": "markdown",
   "metadata": {},
   "source": [
    "### Wow, 2020 overall saw a reduction in nitrogen dioxide of 34%"
   ]
  },
  {
   "cell_type": "markdown",
   "metadata": {},
   "source": [
    "# For the month of April, how does nitrogen dioxide measured in London compare to previous years?"
   ]
  },
  {
   "cell_type": "code",
   "execution_count": 6,
   "metadata": {},
   "outputs": [
    {
     "name": "stdout",
     "output_type": "stream",
     "text": [
      "The average nitrogen dioxide (ug m-3) measured in London, in April, separated by year is ...\n",
      "Year  Month\n",
      "2017  April    42.459979\n",
      "2018  April    42.365930\n",
      "2019  April    43.034161\n",
      "2020  April    23.763465\n",
      "Name: Nitrogen Dioxide_ugm-3_LDN, dtype: float64\n",
      "Between 2017 and 2018 average nitrogen dioxide (ug m-3) in London, in April, changed by -0.22 percent\n",
      "Between 2018 and 2019 average nitrogen dioxide (ug m-3) in London, in April, changed by 1.58 percent\n",
      "Between 2019 and 2020 average  nitrogen dioxide (ug m-3) in London, in April, changed by -44.78 percent\n",
      "NOTE: 2020 measures have not been ratified\n"
     ]
    }
   ],
   "source": [
    "# Average nitrogen dioxide for the month of April in 2020 compared to previous years\n",
    "April_avg_annual_NO2 = london_air_quality[london_air_quality['Month'] == 'April'].groupby([london_air_quality['Year'], 'Month']).mean()\n",
    "\n",
    "April_pcnt_change_annual_NO2 = April_avg_annual_NO2.pct_change()\n",
    "April_pcnt_change_annual_NO2 = April_pcnt_change_annual_NO2['Nitrogen Dioxide_ugm-3_LDN']\n",
    "\n",
    "print(\"The average nitrogen dioxide (ug m-3) measured in London, in April, separated by year is ...\")\n",
    "print(April_avg_annual_NO2['Nitrogen Dioxide_ugm-3_LDN'])\n",
    "\n",
    "\n",
    "print(\"Between 2017 and 2018 average nitrogen dioxide (ug m-3) in London, in April, changed by %4.2f\" %(April_pcnt_change_annual_NO2.iloc[1]*100) + \" percent\")\n",
    "print(\"Between 2018 and 2019 average nitrogen dioxide (ug m-3) in London, in April, changed by %4.2f\" %(April_pcnt_change_annual_NO2.iloc[2]*100) + \" percent\")\n",
    "print(\"Between 2019 and 2020 average  nitrogen dioxide (ug m-3) in London, in April, changed by %4.2f\" %(April_pcnt_change_annual_NO2.iloc[3]*100) + \" percent\")\n",
    "print(\"NOTE: 2020 measures have not been ratified\")"
   ]
  },
  {
   "cell_type": "markdown",
   "metadata": {},
   "source": [
    "### Wow air quality in April saw an almost 45% improvement. Of course, we are only measuring nitrogen dioxide and there are plenty of other pollutants that should be considered another time"
   ]
  },
  {
   "cell_type": "markdown",
   "metadata": {},
   "source": [
    "#     "
   ]
  },
  {
   "cell_type": "code",
   "execution_count": 24,
   "metadata": {},
   "outputs": [
    {
     "name": "stdout",
     "output_type": "stream",
     "text": [
      "        Date Transport mode   Count  Nitrogen Dioxide_ugm-3_LDN  \\\n",
      "0 2020-03-13           Cars  284520                   31.193478   \n",
      "1 2020-03-13     Motorbikes     493                   31.193478   \n",
      "2 2020-03-13          Buses   18856                   31.193478   \n",
      "3 2020-03-13         Trucks   18778                   31.193478   \n",
      "4 2020-03-13           Vans   39596                   31.193478   \n",
      "\n",
      "   StringencyIndexForDisplay  Year  Month  Day  \n",
      "0                      12.96  2020  March   13  \n",
      "1                      12.96  2020  March   13  \n",
      "2                      12.96  2020  March   13  \n",
      "3                      12.96  2020  March   13  \n",
      "4                      12.96  2020  March   13  \n",
      "<class 'pandas.core.frame.DataFrame'>\n",
      "RangeIndex: 804 entries, 0 to 803\n",
      "Data columns (total 8 columns):\n",
      " #   Column                      Non-Null Count  Dtype         \n",
      "---  ------                      --------------  -----         \n",
      " 0   Date                        804 non-null    datetime64[ns]\n",
      " 1   Transport mode              804 non-null    object        \n",
      " 2   Count                       804 non-null    int64         \n",
      " 3   Nitrogen Dioxide_ugm-3_LDN  804 non-null    float64       \n",
      " 4   StringencyIndexForDisplay   804 non-null    float64       \n",
      " 5   Year                        804 non-null    int64         \n",
      " 6   Month                       804 non-null    object        \n",
      " 7   Day                         804 non-null    int64         \n",
      "dtypes: datetime64[ns](1), float64(2), int64(3), object(2)\n",
      "memory usage: 50.4+ KB\n",
      "None\n"
     ]
    }
   ],
   "source": [
    "# Now read in the traffic data from 2020\n",
    "file2 = (\"Big Data Challenge_ Data and Challenge Statements/Data/Data for analysis/traffic_stringency_airquality.csv\")\n",
    "london_air_traffic_stringency = (\n",
    "    pd\n",
    "    .read_csv(file2,\n",
    "              usecols = ['Date', 'Transport mode', 'Count', 'Nitrogen Dioxide_ugm-3_LDN', 'StringencyIndexForDisplay'],\n",
    "              parse_dates=date)\n",
    ")\n",
    "\n",
    "\n",
    "london_air_traffic_stringency.loc[:,'Year'] = london_air_traffic_stringency.loc[:,'Date'].dt.year\n",
    "london_air_traffic_stringency.loc[:,'Month'] = london_air_traffic_stringency.loc[:,'Date'].dt.month_name()\n",
    "london_air_traffic_stringency.loc[:,'Day'] = london_air_traffic_stringency.loc[:,'Date'].dt.day\n",
    "\n",
    "print(london_air_traffic_stringency.head())\n",
    "print(london_air_traffic_stringency.info())\n",
    "\n",
    "\n"
   ]
  },
  {
   "cell_type": "code",
   "execution_count": 102,
   "metadata": {},
   "outputs": [
    {
     "data": {
      "text/plain": [
       "<seaborn.axisgrid.FacetGrid at 0x7fc3e08aebd0>"
      ]
     },
     "execution_count": 102,
     "metadata": {},
     "output_type": "execute_result"
    },
    {
     "data": {
      "image/png": "[encoded data removed]",
      "text/plain": [
       "<Figure size 360x360 with 1 Axes>"
      ]
     },
     "metadata": {
      "needs_background": "light"
     },
     "output_type": "display_data"
    }
   ],
   "source": [
    "import seaborn as sns\n",
    "sns.relplot(data=london_air_traffic_stringency, x='Date', y='Count', kind='line')"
   ]
  },
  {
   "cell_type": "code",
   "execution_count": 79,
   "metadata": {},
   "outputs": [],
   "source": [
    "week_range = london_air_traffic_stringency[(london_air_traffic_stringency['Day'] >= 23) & (london_air_traffic_stringency['Day'] <= 29)]\n",
    "\n",
    "weekly_count = week_range[['Month', 'Count', 'Transport mode']]\n",
    "\n",
    "last_week_of_month = weekly_count.groupby([weekly_count['Month'], 'Transport mode'])['Count'].mean().reset_index()"
   ]
  },
  {
   "cell_type": "code",
   "execution_count": 120,
   "metadata": {},
   "outputs": [],
   "source": [
    "last_week_of_month_cars = last_week_of_month.where(last_week_of_month['Transport mode'] == 'Cars').dropna()\n",
    "\n",
    "# Re-order according to month\n",
    "last_week_of_month_cars = last_week_of_month_cars.set_index('Month')\n",
    "ordered = ['March','April','May','June','July']\n",
    "last_week_of_month_cars = last_week_of_month_cars.reindex(ordered)\n"
   ]
  },
  {
   "cell_type": "code",
   "execution_count": 129,
   "metadata": {},
   "outputs": [
    {
     "name": "stdout",
     "output_type": "stream",
     "text": [
      "Month\n",
      "March         NaN\n",
      "April   -0.096314\n",
      "May      0.399712\n",
      "June     0.166859\n",
      "July     0.026230\n",
      "Name: Count, dtype: float64\n"
     ]
    }
   ],
   "source": [
    "monthly_change = last_week_of_month_cars['Count'].pct_change()\n",
    "print(monthly_change)\n",
    "\n"
   ]
  },
  {
   "cell_type": "code",
   "execution_count": 130,
   "metadata": {},
   "outputs": [
    {
     "data": {
      "text/html": [
       "<div>\n",
       "<style scoped>\n",
       "    .dataframe tbody tr th:only-of-type {\n",
       "        vertical-align: middle;\n",
       "    }\n",
       "\n",
       "    .dataframe tbody tr th {\n",
       "        vertical-align: top;\n",
       "    }\n",
       "\n",
       "    .dataframe thead th {\n",
       "        text-align: right;\n",
       "    }\n",
       "</style>\n",
       "<table border=\"1\" class=\"dataframe\">\n",
       "  <thead>\n",
       "    <tr style=\"text-align: right;\">\n",
       "      <th></th>\n",
       "      <th>Transport mode</th>\n",
       "      <th>Count</th>\n",
       "    </tr>\n",
       "    <tr>\n",
       "      <th>Month</th>\n",
       "      <th></th>\n",
       "      <th></th>\n",
       "    </tr>\n",
       "  </thead>\n",
       "  <tbody>\n",
       "    <tr>\n",
       "      <th>March</th>\n",
       "      <td>Cars</td>\n",
       "      <td>178904.142857</td>\n",
       "    </tr>\n",
       "    <tr>\n",
       "      <th>April</th>\n",
       "      <td>Cars</td>\n",
       "      <td>161673.142857</td>\n",
       "    </tr>\n",
       "    <tr>\n",
       "      <th>May</th>\n",
       "      <td>Cars</td>\n",
       "      <td>226295.857143</td>\n",
       "    </tr>\n",
       "    <tr>\n",
       "      <th>June</th>\n",
       "      <td>Cars</td>\n",
       "      <td>264055.428571</td>\n",
       "    </tr>\n",
       "    <tr>\n",
       "      <th>July</th>\n",
       "      <td>Cars</td>\n",
       "      <td>270981.571429</td>\n",
       "    </tr>\n",
       "  </tbody>\n",
       "</table>\n",
       "</div>"
      ],
      "text/plain": [
       "      Transport mode          Count\n",
       "Month                              \n",
       "March           Cars  178904.142857\n",
       "April           Cars  161673.142857\n",
       "May             Cars  226295.857143\n",
       "June            Cars  264055.428571\n",
       "July            Cars  270981.571429"
      ]
     },
     "execution_count": 130,
     "metadata": {},
     "output_type": "execute_result"
    }
   ],
   "source": [
    "last_week_of_month_cars"
   ]
  },
  {
   "cell_type": "code",
   "execution_count": 131,
   "metadata": {},
   "outputs": [],
   "source": [
    "## Read in mobillity and stringency data"
   ]
  },
  {
   "cell_type": "code",
   "execution_count": 133,
   "metadata": {},
   "outputs": [],
   "source": [
    "file3 = (\"Big Data Challenge_ Data and Challenge Statements/Data/Data for analysis/final_mobility_stringency_by_day.csv\")\n",
    "mobility = pd.read_csv(file3)"
   ]
  },
  {
   "cell_type": "code",
   "execution_count": 136,
   "metadata": {},
   "outputs": [
    {
     "name": "stdout",
     "output_type": "stream",
     "text": [
      "      Unnamed: 0     CountryName        Date  ConfirmedCases  ConfirmedDeaths  \\\n",
      "2552       13688  United Kingdom  2020-01-01             0.0              0.0   \n",
      "2553       13689  United Kingdom  2020-01-02             0.0              0.0   \n",
      "2554       13690  United Kingdom  2020-01-03             0.0              0.0   \n",
      "2555       13691  United Kingdom  2020-01-04             0.0              0.0   \n",
      "2556       13692  United Kingdom  2020-01-05             0.0              0.0   \n",
      "\n",
      "      StringencyIndex  StringencyIndexForDisplay    Year    Month  day  \\\n",
      "2552              0.0                        0.0  2020.0  January  1.0   \n",
      "2553              0.0                        0.0  2020.0  January  2.0   \n",
      "2554              0.0                        0.0  2020.0  January  3.0   \n",
      "2555              0.0                        0.0  2020.0  January  4.0   \n",
      "2556              0.0                        0.0  2020.0  January  5.0   \n",
      "\n",
      "      Quarter  workplaces_percent_change_from_baseline  \\\n",
      "2552      1.0                                      NaN   \n",
      "2553      1.0                                      NaN   \n",
      "2554      1.0                                      NaN   \n",
      "2555      1.0                                      NaN   \n",
      "2556      1.0                                      NaN   \n",
      "\n",
      "      residential_percent_change_from_baseline  Deaths_by_100,000  \\\n",
      "2552                                       NaN                0.0   \n",
      "2553                                       NaN                0.0   \n",
      "2554                                       NaN                0.0   \n",
      "2555                                       NaN                0.0   \n",
      "2556                                       NaN                0.0   \n",
      "\n",
      "      Cases_by_100,000  \n",
      "2552               0.0  \n",
      "2553               0.0  \n",
      "2554               0.0  \n",
      "2555               0.0  \n",
      "2556               0.0  \n"
     ]
    }
   ],
   "source": [
    "mobility_UK = mobility[mobility['CountryName'] == 'United Kingdom']\n",
    "print(mobility_UK.head())"
   ]
  },
  {
   "cell_type": "code",
   "execution_count": null,
   "metadata": {},
   "outputs": [],
   "source": []
  }
 ],
 "metadata": {
  "kernelspec": {
   "display_name": "Python 3",
   "language": "python",
   "name": "python3"
  },
  "language_info": {
   "codemirror_mode": {
    "name": "ipython",
    "version": 3
   },
   "file_extension": ".py",
   "mimetype": "text/x-python",
   "name": "python",
   "nbconvert_exporter": "python",
   "pygments_lexer": "ipython3",
   "version": "3.7.6"
  }
 },
 "nbformat": 4,
 "nbformat_minor": 4
}
