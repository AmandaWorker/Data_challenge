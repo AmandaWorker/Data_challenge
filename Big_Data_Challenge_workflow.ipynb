{
 "cells": [
  {
   "cell_type": "markdown",
   "metadata": {},
   "source": [
    "## The Big Data Challenge"
   ]
  },
  {
   "cell_type": "markdown",
   "metadata": {},
   "source": [
    "# Import data"
   ]
  },
  {
   "cell_type": "code",
   "execution_count": 15,
   "metadata": {},
   "outputs": [],
   "source": [
    "import numpy as np\n",
    "import pandas as pd\n",
    "import seaborn as sns\n",
    "import requests\n"
   ]
  },
  {
   "cell_type": "code",
   "execution_count": 16,
   "metadata": {},
   "outputs": [
    {
     "name": "stdout",
     "output_type": "stream",
     "text": [
      "  CountryName CountryCode       Date  C1_School closing  C1_Flag  \\\n",
      "0       Aruba         ABW 2020-01-01                0.0      NaN   \n",
      "1       Aruba         ABW 2020-01-02                0.0      NaN   \n",
      "2       Aruba         ABW 2020-01-03                0.0      NaN   \n",
      "3       Aruba         ABW 2020-01-04                0.0      NaN   \n",
      "4       Aruba         ABW 2020-01-05                0.0      NaN   \n",
      "\n",
      "   C2_Workplace closing  C2_Flag  C3_Cancel public events  C3_Flag  \\\n",
      "0                   0.0      NaN                      0.0      NaN   \n",
      "1                   0.0      NaN                      0.0      NaN   \n",
      "2                   0.0      NaN                      0.0      NaN   \n",
      "3                   0.0      NaN                      0.0      NaN   \n",
      "4                   0.0      NaN                      0.0      NaN   \n",
      "\n",
      "   C4_Restrictions on gatherings  ...  StringencyIndex  \\\n",
      "0                            0.0  ...              0.0   \n",
      "1                            0.0  ...              0.0   \n",
      "2                            0.0  ...              0.0   \n",
      "3                            0.0  ...              0.0   \n",
      "4                            0.0  ...              0.0   \n",
      "\n",
      "   StringencyIndexForDisplay  StringencyLegacyIndex  \\\n",
      "0                        0.0                    0.0   \n",
      "1                        0.0                    0.0   \n",
      "2                        0.0                    0.0   \n",
      "3                        0.0                    0.0   \n",
      "4                        0.0                    0.0   \n",
      "\n",
      "   StringencyLegacyIndexForDisplay  GovernmentResponseIndex  \\\n",
      "0                              0.0                      0.0   \n",
      "1                              0.0                      0.0   \n",
      "2                              0.0                      0.0   \n",
      "3                              0.0                      0.0   \n",
      "4                              0.0                      0.0   \n",
      "\n",
      "   GovernmentResponseIndexForDisplay  ContainmentHealthIndex  \\\n",
      "0                                0.0                     0.0   \n",
      "1                                0.0                     0.0   \n",
      "2                                0.0                     0.0   \n",
      "3                                0.0                     0.0   \n",
      "4                                0.0                     0.0   \n",
      "\n",
      "   ContainmentHealthIndexForDisplay  EconomicSupportIndex  \\\n",
      "0                               0.0                   0.0   \n",
      "1                               0.0                   0.0   \n",
      "2                               0.0                   0.0   \n",
      "3                               0.0                   0.0   \n",
      "4                               0.0                   0.0   \n",
      "\n",
      "   EconomicSupportIndexForDisplay  \n",
      "0                             0.0  \n",
      "1                             0.0  \n",
      "2                             0.0  \n",
      "3                             0.0  \n",
      "4                             0.0  \n",
      "\n",
      "[5 rows x 42 columns]\n"
     ]
    }
   ],
   "source": [
    "# Read in stringency data\n",
    "file = (\n",
    "    \"/Users/amanda/Desktop/OneDrive - King's College London/Code First/Data_challenge/Big Data Challenge_ Data and Challenge Statements/Data/Stringency data/OxCGRT_latest_hackathon.csv\"\n",
    ")\n",
    "stringency = pd.read_csv(file, parse_dates=['Date'])\n",
    "print(stringency.head())"
   ]
  },
  {
   "cell_type": "code",
   "execution_count": 17,
   "metadata": {},
   "outputs": [
    {
     "name": "stdout",
     "output_type": "stream",
     "text": [
      "Daily counts London                                                      \\\n",
      "               Cars Motorbikes Buses Trucks Vans Pedestrians & cyclists   \n",
      "2020-03-01        *          *     *      *    *                      *   \n",
      "2020-03-02        *          *     *      *    *                      *   \n",
      "2020-03-03        *          *     *      *    *                      *   \n",
      "2020-03-04        *          *     *      *    *                      *   \n",
      "2020-03-05        *          *     *      *    *                      *   \n",
      "\n",
      "Daily counts North East                          ... Greater Manchester  \\\n",
      "                   Cars Motorbikes Buses Trucks  ...              Buses   \n",
      "2020-03-01        55378         18  2249   1130  ...                  *   \n",
      "2020-03-02        54773         24  2279   1159  ...                  *   \n",
      "2020-03-03        56045         29  2283   1168  ...                  *   \n",
      "2020-03-04        53209         20  2262   1150  ...                  *   \n",
      "2020-03-05        52897         14  2278   1211  ...                  *   \n",
      "\n",
      "Daily counts                                    Reading                   \\\n",
      "             Trucks Vans Pedestrians & cyclists    Cars Motorbikes Buses   \n",
      "2020-03-01        *    *                      *       *          *     *   \n",
      "2020-03-02        *    *                      *       *          *     *   \n",
      "2020-03-03        *    *                      *       *          *     *   \n",
      "2020-03-04        *    *                      *       *          *     *   \n",
      "2020-03-05        *    *                      *       *          *     *   \n",
      "\n",
      "Daily counts                                     \n",
      "             Trucks Vans Pedestrians & cyclists  \n",
      "2020-03-01        *    *                      *  \n",
      "2020-03-02        *    *                      *  \n",
      "2020-03-03        *    *                      *  \n",
      "2020-03-04        *    *                      *  \n",
      "2020-03-05        *    *                      *  \n",
      "\n",
      "[5 rows x 42 columns]\n"
     ]
    }
   ],
   "source": [
    "# Read in traffic data from ONS\n",
    "file2 = (\n",
    "    \"/Users/amanda/Desktop/OneDrive - King's College London/Code First/Data_challenge/Traffic_ONS/10septembertrafficcamerasdataset.xlsx\"\n",
    ")\n",
    "traffic = pd.read_excel(file2, sheet_name='Seasonally adjusted', header=[0, 1], skiprows=[2, 3], index_col=0)\n",
    "print(traffic.head())"
   ]
  },
  {
   "cell_type": "code",
   "execution_count": 12,
   "metadata": {},
   "outputs": [
    {
     "ename": "JSONDecodeError",
     "evalue": "Expecting value: line 1 column 1 (char 0)",
     "output_type": "error",
     "traceback": [
      "\u001b[0;31m---------------------------------------------------------------------------\u001b[0m",
      "\u001b[0;31mJSONDecodeError\u001b[0m                           Traceback (most recent call last)",
      "\u001b[0;32m<ipython-input-12-b4346ef949d3>\u001b[0m in \u001b[0;36m<module>\u001b[0;34m\u001b[0m\n\u001b[1;32m      4\u001b[0m \u001b[0mair\u001b[0m \u001b[0;34m=\u001b[0m \u001b[0mrequests\u001b[0m\u001b[0;34m.\u001b[0m\u001b[0mget\u001b[0m\u001b[0;34m(\u001b[0m\u001b[0murl_air\u001b[0m\u001b[0;34m)\u001b[0m\u001b[0;34m\u001b[0m\u001b[0;34m\u001b[0m\u001b[0m\n\u001b[1;32m      5\u001b[0m \u001b[0;31m# Decode the JSON data into a dictionary: json_data\u001b[0m\u001b[0;34m\u001b[0m\u001b[0;34m\u001b[0m\u001b[0;34m\u001b[0m\u001b[0m\n\u001b[0;32m----> 6\u001b[0;31m \u001b[0mjson_data_air\u001b[0m \u001b[0;34m=\u001b[0m \u001b[0mair\u001b[0m\u001b[0;34m.\u001b[0m\u001b[0mjson\u001b[0m\u001b[0;34m(\u001b[0m\u001b[0;34m)\u001b[0m\u001b[0;34m\u001b[0m\u001b[0;34m\u001b[0m\u001b[0m\n\u001b[0m\u001b[1;32m      7\u001b[0m \u001b[0;34m\u001b[0m\u001b[0m\n\u001b[1;32m      8\u001b[0m \u001b[0;31m# # Print each key-value pair in json_data\u001b[0m\u001b[0;34m\u001b[0m\u001b[0;34m\u001b[0m\u001b[0;34m\u001b[0m\u001b[0m\n",
      "\u001b[0;32m~/opt/anaconda3/lib/python3.7/site-packages/requests/models.py\u001b[0m in \u001b[0;36mjson\u001b[0;34m(self, **kwargs)\u001b[0m\n\u001b[1;32m    896\u001b[0m                     \u001b[0;31m# used.\u001b[0m\u001b[0;34m\u001b[0m\u001b[0;34m\u001b[0m\u001b[0;34m\u001b[0m\u001b[0m\n\u001b[1;32m    897\u001b[0m                     \u001b[0;32mpass\u001b[0m\u001b[0;34m\u001b[0m\u001b[0;34m\u001b[0m\u001b[0m\n\u001b[0;32m--> 898\u001b[0;31m         \u001b[0;32mreturn\u001b[0m \u001b[0mcomplexjson\u001b[0m\u001b[0;34m.\u001b[0m\u001b[0mloads\u001b[0m\u001b[0;34m(\u001b[0m\u001b[0mself\u001b[0m\u001b[0;34m.\u001b[0m\u001b[0mtext\u001b[0m\u001b[0;34m,\u001b[0m \u001b[0;34m**\u001b[0m\u001b[0mkwargs\u001b[0m\u001b[0;34m)\u001b[0m\u001b[0;34m\u001b[0m\u001b[0;34m\u001b[0m\u001b[0m\n\u001b[0m\u001b[1;32m    899\u001b[0m \u001b[0;34m\u001b[0m\u001b[0m\n\u001b[1;32m    900\u001b[0m     \u001b[0;34m@\u001b[0m\u001b[0mproperty\u001b[0m\u001b[0;34m\u001b[0m\u001b[0;34m\u001b[0m\u001b[0m\n",
      "\u001b[0;32m~/opt/anaconda3/lib/python3.7/json/__init__.py\u001b[0m in \u001b[0;36mloads\u001b[0;34m(s, encoding, cls, object_hook, parse_float, parse_int, parse_constant, object_pairs_hook, **kw)\u001b[0m\n\u001b[1;32m    346\u001b[0m             \u001b[0mparse_int\u001b[0m \u001b[0;32mis\u001b[0m \u001b[0;32mNone\u001b[0m \u001b[0;32mand\u001b[0m \u001b[0mparse_float\u001b[0m \u001b[0;32mis\u001b[0m \u001b[0;32mNone\u001b[0m \u001b[0;32mand\u001b[0m\u001b[0;34m\u001b[0m\u001b[0;34m\u001b[0m\u001b[0m\n\u001b[1;32m    347\u001b[0m             parse_constant is None and object_pairs_hook is None and not kw):\n\u001b[0;32m--> 348\u001b[0;31m         \u001b[0;32mreturn\u001b[0m \u001b[0m_default_decoder\u001b[0m\u001b[0;34m.\u001b[0m\u001b[0mdecode\u001b[0m\u001b[0;34m(\u001b[0m\u001b[0ms\u001b[0m\u001b[0;34m)\u001b[0m\u001b[0;34m\u001b[0m\u001b[0;34m\u001b[0m\u001b[0m\n\u001b[0m\u001b[1;32m    349\u001b[0m     \u001b[0;32mif\u001b[0m \u001b[0mcls\u001b[0m \u001b[0;32mis\u001b[0m \u001b[0;32mNone\u001b[0m\u001b[0;34m:\u001b[0m\u001b[0;34m\u001b[0m\u001b[0;34m\u001b[0m\u001b[0m\n\u001b[1;32m    350\u001b[0m         \u001b[0mcls\u001b[0m \u001b[0;34m=\u001b[0m \u001b[0mJSONDecoder\u001b[0m\u001b[0;34m\u001b[0m\u001b[0;34m\u001b[0m\u001b[0m\n",
      "\u001b[0;32m~/opt/anaconda3/lib/python3.7/json/decoder.py\u001b[0m in \u001b[0;36mdecode\u001b[0;34m(self, s, _w)\u001b[0m\n\u001b[1;32m    335\u001b[0m \u001b[0;34m\u001b[0m\u001b[0m\n\u001b[1;32m    336\u001b[0m         \"\"\"\n\u001b[0;32m--> 337\u001b[0;31m         \u001b[0mobj\u001b[0m\u001b[0;34m,\u001b[0m \u001b[0mend\u001b[0m \u001b[0;34m=\u001b[0m \u001b[0mself\u001b[0m\u001b[0;34m.\u001b[0m\u001b[0mraw_decode\u001b[0m\u001b[0;34m(\u001b[0m\u001b[0ms\u001b[0m\u001b[0;34m,\u001b[0m \u001b[0midx\u001b[0m\u001b[0;34m=\u001b[0m\u001b[0m_w\u001b[0m\u001b[0;34m(\u001b[0m\u001b[0ms\u001b[0m\u001b[0;34m,\u001b[0m \u001b[0;36m0\u001b[0m\u001b[0;34m)\u001b[0m\u001b[0;34m.\u001b[0m\u001b[0mend\u001b[0m\u001b[0;34m(\u001b[0m\u001b[0;34m)\u001b[0m\u001b[0;34m)\u001b[0m\u001b[0;34m\u001b[0m\u001b[0;34m\u001b[0m\u001b[0m\n\u001b[0m\u001b[1;32m    338\u001b[0m         \u001b[0mend\u001b[0m \u001b[0;34m=\u001b[0m \u001b[0m_w\u001b[0m\u001b[0;34m(\u001b[0m\u001b[0ms\u001b[0m\u001b[0;34m,\u001b[0m \u001b[0mend\u001b[0m\u001b[0;34m)\u001b[0m\u001b[0;34m.\u001b[0m\u001b[0mend\u001b[0m\u001b[0;34m(\u001b[0m\u001b[0;34m)\u001b[0m\u001b[0;34m\u001b[0m\u001b[0;34m\u001b[0m\u001b[0m\n\u001b[1;32m    339\u001b[0m         \u001b[0;32mif\u001b[0m \u001b[0mend\u001b[0m \u001b[0;34m!=\u001b[0m \u001b[0mlen\u001b[0m\u001b[0;34m(\u001b[0m\u001b[0ms\u001b[0m\u001b[0;34m)\u001b[0m\u001b[0;34m:\u001b[0m\u001b[0;34m\u001b[0m\u001b[0;34m\u001b[0m\u001b[0m\n",
      "\u001b[0;32m~/opt/anaconda3/lib/python3.7/json/decoder.py\u001b[0m in \u001b[0;36mraw_decode\u001b[0;34m(self, s, idx)\u001b[0m\n\u001b[1;32m    353\u001b[0m             \u001b[0mobj\u001b[0m\u001b[0;34m,\u001b[0m \u001b[0mend\u001b[0m \u001b[0;34m=\u001b[0m \u001b[0mself\u001b[0m\u001b[0;34m.\u001b[0m\u001b[0mscan_once\u001b[0m\u001b[0;34m(\u001b[0m\u001b[0ms\u001b[0m\u001b[0;34m,\u001b[0m \u001b[0midx\u001b[0m\u001b[0;34m)\u001b[0m\u001b[0;34m\u001b[0m\u001b[0;34m\u001b[0m\u001b[0m\n\u001b[1;32m    354\u001b[0m         \u001b[0;32mexcept\u001b[0m \u001b[0mStopIteration\u001b[0m \u001b[0;32mas\u001b[0m \u001b[0merr\u001b[0m\u001b[0;34m:\u001b[0m\u001b[0;34m\u001b[0m\u001b[0;34m\u001b[0m\u001b[0m\n\u001b[0;32m--> 355\u001b[0;31m             \u001b[0;32mraise\u001b[0m \u001b[0mJSONDecodeError\u001b[0m\u001b[0;34m(\u001b[0m\u001b[0;34m\"Expecting value\"\u001b[0m\u001b[0;34m,\u001b[0m \u001b[0ms\u001b[0m\u001b[0;34m,\u001b[0m \u001b[0merr\u001b[0m\u001b[0;34m.\u001b[0m\u001b[0mvalue\u001b[0m\u001b[0;34m)\u001b[0m \u001b[0;32mfrom\u001b[0m \u001b[0;32mNone\u001b[0m\u001b[0;34m\u001b[0m\u001b[0;34m\u001b[0m\u001b[0m\n\u001b[0m\u001b[1;32m    356\u001b[0m         \u001b[0;32mreturn\u001b[0m \u001b[0mobj\u001b[0m\u001b[0;34m,\u001b[0m \u001b[0mend\u001b[0m\u001b[0;34m\u001b[0m\u001b[0;34m\u001b[0m\u001b[0m\n",
      "\u001b[0;31mJSONDecodeError\u001b[0m: Expecting value: line 1 column 1 (char 0)"
     ]
    }
   ],
   "source": [
    "# Read in the air quality data -- THIS DOESN'T WORK\n",
    "url_air = (\"http://api.erg.ic.ac.uk/AirQuality/Daily/MonitoringIndex/Latest/GroupName={GROUPNAME}/Json\")\n",
    "# Package the request, send the request and catch the response: r\n",
    "air = requests.get(url_air)\n",
    "# Decode the JSON data into a dictionary: json_data\n",
    "json_data_air = air.json()\n",
    "\n",
    "# # Print each key-value pair in json_data\n",
    "# for k in json_data.keys():\n",
    "#     print(k + ': ', json_data[k])\n"
   ]
  },
  {
   "cell_type": "markdown",
   "metadata": {},
   "source": [
    "## Fill missing values"
   ]
  },
  {
   "cell_type": "code",
   "execution_count": 25,
   "metadata": {},
   "outputs": [
    {
     "name": "stdout",
     "output_type": "stream",
     "text": [
      "Daily counts  London                                                         \\\n",
      "                Cars Motorbikes  Buses Trucks   Vans Pedestrians & cyclists   \n",
      "2020-03-01         *          *      *      *      *                      *   \n",
      "2020-03-02         *          *      *      *      *                      *   \n",
      "2020-03-03         *          *      *      *      *                      *   \n",
      "2020-03-04         *          *      *      *      *                      *   \n",
      "2020-03-05         *          *      *      *      *                      *   \n",
      "...              ...        ...    ...    ...    ...                    ...   \n",
      "2020-09-02    272143        548  17811  17905  39621                  41057   \n",
      "2020-09-03    276908        598  18234  18855  40927                  45666   \n",
      "2020-09-04    275792        594  18004  18385  40294                  46254   \n",
      "2020-09-05    279997        564  17237  18026  39143                  42122   \n",
      "2020-09-06    275020        568  16991  17475  38403                  41273   \n",
      "\n",
      "Daily counts North East                          ... Greater Manchester  \\\n",
      "                   Cars Motorbikes Buses Trucks  ...              Buses   \n",
      "2020-03-01        55378         18  2249   1130  ...                  *   \n",
      "2020-03-02        54773         24  2279   1159  ...                  *   \n",
      "2020-03-03        56045         29  2283   1168  ...                  *   \n",
      "2020-03-04        53209         20  2262   1150  ...                  *   \n",
      "2020-03-05        52897         14  2278   1211  ...                  *   \n",
      "...                 ...        ...   ...    ...  ...                ...   \n",
      "2020-09-02        47753         22  1967   1165  ...                398   \n",
      "2020-09-03        51797         20  2034   1137  ...                384   \n",
      "2020-09-04        51120         30  2058   1189  ...                372   \n",
      "2020-09-05        52490         29  2067   1189  ...                384   \n",
      "2020-09-06        53712         19  2151   1179  ...                436   \n",
      "\n",
      "Daily counts                                    Reading                   \\\n",
      "             Trucks Vans Pedestrians & cyclists    Cars Motorbikes Buses   \n",
      "2020-03-01        *    *                      *       *          *     *   \n",
      "2020-03-02        *    *                      *       *          *     *   \n",
      "2020-03-03        *    *                      *       *          *     *   \n",
      "2020-03-04        *    *                      *       *          *     *   \n",
      "2020-03-05        *    *                      *       *          *     *   \n",
      "...             ...  ...                    ...     ...        ...   ...   \n",
      "2020-09-02      316  841                    543    2258          #    20   \n",
      "2020-09-03      297  783                    525    2507          #    21   \n",
      "2020-09-04      278  776                    509    2262          #    22   \n",
      "2020-09-05      331  832                    437    2567          #    32   \n",
      "2020-09-06      338  858                    580    2910          #    37   \n",
      "\n",
      "Daily counts                                     \n",
      "             Trucks Vans Pedestrians & cyclists  \n",
      "2020-03-01        *    *                      *  \n",
      "2020-03-02        *    *                      *  \n",
      "2020-03-03        *    *                      *  \n",
      "2020-03-04        *    *                      *  \n",
      "2020-03-05        *    *                      *  \n",
      "...             ...  ...                    ...  \n",
      "2020-09-02       71  249                     47  \n",
      "2020-09-03       71  259                     48  \n",
      "2020-09-04       70  241                     48  \n",
      "2020-09-05       86  299                     41  \n",
      "2020-09-06       84  319                     51  \n",
      "\n",
      "[190 rows x 42 columns]\n"
     ]
    }
   ],
   "source": [
    "# Replace the missing values with None - THIS DOESN'T WORK\n",
    "traffic = traffic.replace('\\*', None)\n",
    "print(traffic)"
   ]
  },
  {
   "cell_type": "markdown",
   "metadata": {},
   "source": [
    "## Reformat data"
   ]
  },
  {
   "cell_type": "code",
   "execution_count": 18,
   "metadata": {},
   "outputs": [
    {
     "name": "stdout",
     "output_type": "stream",
     "text": [
      "               City                 Vehicle Count\n",
      "2020-03-01   London                    Cars     *\n",
      "2020-03-02   London                    Cars     *\n",
      "2020-03-03   London                    Cars     *\n",
      "2020-03-04   London                    Cars     *\n",
      "2020-03-05   London                    Cars     *\n",
      "...             ...                     ...   ...\n",
      "2020-09-02  Reading  Pedestrians & cyclists    47\n",
      "2020-09-03  Reading  Pedestrians & cyclists    48\n",
      "2020-09-04  Reading  Pedestrians & cyclists    48\n",
      "2020-09-05  Reading  Pedestrians & cyclists    41\n",
      "2020-09-06  Reading  Pedestrians & cyclists    51\n",
      "\n",
      "[7980 rows x 3 columns]\n",
      "           Date     City                 Vehicle Count\n",
      "0    2020-03-01   London                    Cars     *\n",
      "1    2020-03-02   London                    Cars     *\n",
      "2    2020-03-03   London                    Cars     *\n",
      "3    2020-03-04   London                    Cars     *\n",
      "4    2020-03-05   London                    Cars     *\n",
      "...         ...      ...                     ...   ...\n",
      "7975 2020-09-02  Reading  Pedestrians & cyclists    47\n",
      "7976 2020-09-03  Reading  Pedestrians & cyclists    48\n",
      "7977 2020-09-04  Reading  Pedestrians & cyclists    48\n",
      "7978 2020-09-05  Reading  Pedestrians & cyclists    41\n",
      "7979 2020-09-06  Reading  Pedestrians & cyclists    51\n",
      "\n",
      "[7980 rows x 4 columns]\n"
     ]
    }
   ],
   "source": [
    "# Melt traffic data\n",
    "long_traffic = pd.melt(traffic, var_name=['City','Vehicle'], value_name='Count', ignore_index=False)\n",
    "print(long_traffic)\n",
    "long_traffic = pd.DataFrame(long_traffic.reset_index())\n",
    "\n",
    "# Rename date column\n",
    "long_traffic = long_traffic.rename(columns={\"index\": \"Date\"})\n",
    "print(long_traffic)"
   ]
  },
  {
   "cell_type": "code",
   "execution_count": 19,
   "metadata": {},
   "outputs": [
    {
     "name": "stdout",
     "output_type": "stream",
     "text": [
      "        Date    City Vehicle Count  Year  Month\n",
      "0 2020-03-01  London    Cars     *  2020      3\n",
      "1 2020-03-02  London    Cars     *  2020      3\n",
      "2 2020-03-03  London    Cars     *  2020      3\n",
      "3 2020-03-04  London    Cars     *  2020      3\n",
      "4 2020-03-05  London    Cars     *  2020      3\n",
      "<class 'pandas.core.frame.DataFrame'>\n",
      "RangeIndex: 7980 entries, 0 to 7979\n",
      "Data columns (total 6 columns):\n",
      " #   Column   Non-Null Count  Dtype         \n",
      "---  ------   --------------  -----         \n",
      " 0   Date     7980 non-null   datetime64[ns]\n",
      " 1   City     7980 non-null   object        \n",
      " 2   Vehicle  7980 non-null   object        \n",
      " 3   Count    7980 non-null   object        \n",
      " 4   Year     7980 non-null   int64         \n",
      " 5   Month    7980 non-null   int64         \n",
      "dtypes: datetime64[ns](1), int64(2), object(3)\n",
      "memory usage: 374.2+ KB\n",
      "None\n"
     ]
    }
   ],
   "source": [
    "# Create new columns with Year and Month\n",
    "long_traffic.loc[:,'Year'] = long_traffic.loc[:,'Date'].dt.year\n",
    "long_traffic.loc[:,'Month'] = long_traffic.loc[:,'Date'].dt.month\n",
    "print(long_traffic.head())\n",
    "\n",
    "\n",
    "long_traffic.loc[:,'Year'] = long_traffic.loc[:,'Year'].astype(int)\n",
    "long_traffic.loc[:, 'Month'] = long_traffic.loc[:, 'Month'].astype(int)\n",
    "print(long_traffic.info())"
   ]
  },
  {
   "cell_type": "code",
   "execution_count": 21,
   "metadata": {},
   "outputs": [
    {
     "data": {
      "text/plain": [
       "Index(['Date', 'City', 'Vehicle', 'Count', 'Year', 'Month'], dtype='object')"
      ]
     },
     "execution_count": 21,
     "metadata": {},
     "output_type": "execute_result"
    }
   ],
   "source": [
    "long_traffic.columns"
   ]
  },
  {
   "cell_type": "markdown",
   "metadata": {},
   "source": [
    "## Deal with missing values"
   ]
  },
  {
   "cell_type": "code",
   "execution_count": 9,
   "metadata": {},
   "outputs": [
    {
     "name": "stdout",
     "output_type": "stream",
     "text": [
      "<class 'pandas.core.frame.DataFrame'>\n",
      "RangeIndex: 7980 entries, 0 to 7979\n",
      "Data columns (total 6 columns):\n",
      " #   Column   Non-Null Count  Dtype         \n",
      "---  ------   --------------  -----         \n",
      " 0   Date     7980 non-null   datetime64[ns]\n",
      " 1   City     7980 non-null   object        \n",
      " 2   Vehicle  7980 non-null   object        \n",
      " 3   Count    7980 non-null   object        \n",
      " 4   Year     7980 non-null   int64         \n",
      " 5   Month    7980 non-null   int64         \n",
      "dtypes: datetime64[ns](1), int64(2), object(3)\n",
      "memory usage: 374.2+ KB\n",
      "None\n"
     ]
    }
   ],
   "source": [
    "long_traffic.loc[:, 'Count'] = long_traffic.loc[:, 'Count'].astype(str)\n",
    "print(long_traffic.info())"
   ]
  },
  {
   "cell_type": "code",
   "execution_count": 7,
   "metadata": {},
   "outputs": [
    {
     "ename": "TypeError",
     "evalue": "repl must be a string or callable",
     "output_type": "error",
     "traceback": [
      "\u001b[0;31m---------------------------------------------------------------------------\u001b[0m",
      "\u001b[0;31mTypeError\u001b[0m                                 Traceback (most recent call last)",
      "\u001b[0;32m<ipython-input-7-6056bf151da5>\u001b[0m in \u001b[0;36m<module>\u001b[0;34m\u001b[0m\n\u001b[0;32m----> 1\u001b[0;31m \u001b[0mlong_traffic\u001b[0m\u001b[0;34m.\u001b[0m\u001b[0mloc\u001b[0m\u001b[0;34m[\u001b[0m\u001b[0;34m:\u001b[0m\u001b[0;34m,\u001b[0m \u001b[0;34m'Count'\u001b[0m\u001b[0;34m]\u001b[0m \u001b[0;34m=\u001b[0m \u001b[0mlong_traffic\u001b[0m\u001b[0;34m.\u001b[0m\u001b[0mloc\u001b[0m\u001b[0;34m[\u001b[0m\u001b[0;34m:\u001b[0m\u001b[0;34m,\u001b[0m \u001b[0;34m'Count'\u001b[0m\u001b[0;34m]\u001b[0m\u001b[0;34m.\u001b[0m\u001b[0mstr\u001b[0m\u001b[0;34m.\u001b[0m\u001b[0mreplace\u001b[0m\u001b[0;34m(\u001b[0m\u001b[0;34m'*'\u001b[0m\u001b[0;34m,\u001b[0m \u001b[0;32mNone\u001b[0m\u001b[0;34m)\u001b[0m\u001b[0;34m\u001b[0m\u001b[0;34m\u001b[0m\u001b[0m\n\u001b[0m",
      "\u001b[0;32m~/opt/anaconda3/lib/python3.7/site-packages/pandas/core/strings.py\u001b[0m in \u001b[0;36mwrapper\u001b[0;34m(self, *args, **kwargs)\u001b[0m\n\u001b[1;32m   1999\u001b[0m                 )\n\u001b[1;32m   2000\u001b[0m                 \u001b[0;32mraise\u001b[0m \u001b[0mTypeError\u001b[0m\u001b[0;34m(\u001b[0m\u001b[0mmsg\u001b[0m\u001b[0;34m)\u001b[0m\u001b[0;34m\u001b[0m\u001b[0;34m\u001b[0m\u001b[0m\n\u001b[0;32m-> 2001\u001b[0;31m             \u001b[0;32mreturn\u001b[0m \u001b[0mfunc\u001b[0m\u001b[0;34m(\u001b[0m\u001b[0mself\u001b[0m\u001b[0;34m,\u001b[0m \u001b[0;34m*\u001b[0m\u001b[0margs\u001b[0m\u001b[0;34m,\u001b[0m \u001b[0;34m**\u001b[0m\u001b[0mkwargs\u001b[0m\u001b[0;34m)\u001b[0m\u001b[0;34m\u001b[0m\u001b[0;34m\u001b[0m\u001b[0m\n\u001b[0m\u001b[1;32m   2002\u001b[0m \u001b[0;34m\u001b[0m\u001b[0m\n\u001b[1;32m   2003\u001b[0m         \u001b[0mwrapper\u001b[0m\u001b[0;34m.\u001b[0m\u001b[0m__name__\u001b[0m \u001b[0;34m=\u001b[0m \u001b[0mfunc_name\u001b[0m\u001b[0;34m\u001b[0m\u001b[0;34m\u001b[0m\u001b[0m\n",
      "\u001b[0;32m~/opt/anaconda3/lib/python3.7/site-packages/pandas/core/strings.py\u001b[0m in \u001b[0;36mreplace\u001b[0;34m(self, pat, repl, n, case, flags, regex)\u001b[0m\n\u001b[1;32m   2843\u001b[0m     \u001b[0;32mdef\u001b[0m \u001b[0mreplace\u001b[0m\u001b[0;34m(\u001b[0m\u001b[0mself\u001b[0m\u001b[0;34m,\u001b[0m \u001b[0mpat\u001b[0m\u001b[0;34m,\u001b[0m \u001b[0mrepl\u001b[0m\u001b[0;34m,\u001b[0m \u001b[0mn\u001b[0m\u001b[0;34m=\u001b[0m\u001b[0;34m-\u001b[0m\u001b[0;36m1\u001b[0m\u001b[0;34m,\u001b[0m \u001b[0mcase\u001b[0m\u001b[0;34m=\u001b[0m\u001b[0;32mNone\u001b[0m\u001b[0;34m,\u001b[0m \u001b[0mflags\u001b[0m\u001b[0;34m=\u001b[0m\u001b[0;36m0\u001b[0m\u001b[0;34m,\u001b[0m \u001b[0mregex\u001b[0m\u001b[0;34m=\u001b[0m\u001b[0;32mTrue\u001b[0m\u001b[0;34m)\u001b[0m\u001b[0;34m:\u001b[0m\u001b[0;34m\u001b[0m\u001b[0;34m\u001b[0m\u001b[0m\n\u001b[1;32m   2844\u001b[0m         result = str_replace(\n\u001b[0;32m-> 2845\u001b[0;31m             \u001b[0mself\u001b[0m\u001b[0;34m.\u001b[0m\u001b[0m_parent\u001b[0m\u001b[0;34m,\u001b[0m \u001b[0mpat\u001b[0m\u001b[0;34m,\u001b[0m \u001b[0mrepl\u001b[0m\u001b[0;34m,\u001b[0m \u001b[0mn\u001b[0m\u001b[0;34m=\u001b[0m\u001b[0mn\u001b[0m\u001b[0;34m,\u001b[0m \u001b[0mcase\u001b[0m\u001b[0;34m=\u001b[0m\u001b[0mcase\u001b[0m\u001b[0;34m,\u001b[0m \u001b[0mflags\u001b[0m\u001b[0;34m=\u001b[0m\u001b[0mflags\u001b[0m\u001b[0;34m,\u001b[0m \u001b[0mregex\u001b[0m\u001b[0;34m=\u001b[0m\u001b[0mregex\u001b[0m\u001b[0;34m\u001b[0m\u001b[0;34m\u001b[0m\u001b[0m\n\u001b[0m\u001b[1;32m   2846\u001b[0m         )\n\u001b[1;32m   2847\u001b[0m         \u001b[0;32mreturn\u001b[0m \u001b[0mself\u001b[0m\u001b[0;34m.\u001b[0m\u001b[0m_wrap_result\u001b[0m\u001b[0;34m(\u001b[0m\u001b[0mresult\u001b[0m\u001b[0;34m)\u001b[0m\u001b[0;34m\u001b[0m\u001b[0;34m\u001b[0m\u001b[0m\n",
      "\u001b[0;32m~/opt/anaconda3/lib/python3.7/site-packages/pandas/core/strings.py\u001b[0m in \u001b[0;36mstr_replace\u001b[0;34m(arr, pat, repl, n, case, flags, regex)\u001b[0m\n\u001b[1;32m    688\u001b[0m     \u001b[0;31m# Check whether repl is valid (GH 13438, GH 15055)\u001b[0m\u001b[0;34m\u001b[0m\u001b[0;34m\u001b[0m\u001b[0;34m\u001b[0m\u001b[0m\n\u001b[1;32m    689\u001b[0m     \u001b[0;32mif\u001b[0m \u001b[0;32mnot\u001b[0m \u001b[0;34m(\u001b[0m\u001b[0misinstance\u001b[0m\u001b[0;34m(\u001b[0m\u001b[0mrepl\u001b[0m\u001b[0;34m,\u001b[0m \u001b[0mstr\u001b[0m\u001b[0;34m)\u001b[0m \u001b[0;32mor\u001b[0m \u001b[0mcallable\u001b[0m\u001b[0;34m(\u001b[0m\u001b[0mrepl\u001b[0m\u001b[0;34m)\u001b[0m\u001b[0;34m)\u001b[0m\u001b[0;34m:\u001b[0m\u001b[0;34m\u001b[0m\u001b[0;34m\u001b[0m\u001b[0m\n\u001b[0;32m--> 690\u001b[0;31m         \u001b[0;32mraise\u001b[0m \u001b[0mTypeError\u001b[0m\u001b[0;34m(\u001b[0m\u001b[0;34m\"repl must be a string or callable\"\u001b[0m\u001b[0;34m)\u001b[0m\u001b[0;34m\u001b[0m\u001b[0;34m\u001b[0m\u001b[0m\n\u001b[0m\u001b[1;32m    691\u001b[0m \u001b[0;34m\u001b[0m\u001b[0m\n\u001b[1;32m    692\u001b[0m     \u001b[0mis_compiled_re\u001b[0m \u001b[0;34m=\u001b[0m \u001b[0mis_re\u001b[0m\u001b[0;34m(\u001b[0m\u001b[0mpat\u001b[0m\u001b[0;34m)\u001b[0m\u001b[0;34m\u001b[0m\u001b[0;34m\u001b[0m\u001b[0m\n",
      "\u001b[0;31mTypeError\u001b[0m: repl must be a string or callable"
     ]
    }
   ],
   "source": [
    "long_traffic.loc[:, 'Count'] = long_traffic.loc[:, 'Count'].str.replace('*', None)"
   ]
  },
  {
   "cell_type": "code",
   "execution_count": null,
   "metadata": {},
   "outputs": [],
   "source": [
    "## Check it can plot - just for de-bugging\n",
    "sns.lineplot(\n",
    "    data = long_traffic,\n",
    "    x = 'Month',\n",
    "    y = 'Count',\n",
    "    aspect=3\n",
    ")"
   ]
  },
  {
   "cell_type": "code",
   "execution_count": null,
   "metadata": {},
   "outputs": [],
   "source": []
  }
 ],
 "metadata": {
  "kernelspec": {
   "display_name": "Python 3",
   "language": "python",
   "name": "python3"
  },
  "language_info": {
   "codemirror_mode": {
    "name": "ipython",
    "version": 3
   },
   "file_extension": ".py",
   "mimetype": "text/x-python",
   "name": "python",
   "nbconvert_exporter": "python",
   "pygments_lexer": "ipython3",
   "version": "3.7.6"
  }
 },
 "nbformat": 4,
 "nbformat_minor": 4
}
