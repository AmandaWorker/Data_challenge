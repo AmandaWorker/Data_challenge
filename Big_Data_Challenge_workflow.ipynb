{
 "cells": [
  {
   "cell_type": "markdown",
   "metadata": {},
   "source": [
    "# The Big Data Challenge"
   ]
  },
  {
   "cell_type": "markdown",
   "metadata": {},
   "source": [
    "# Import packages"
   ]
  },
  {
   "cell_type": "code",
   "execution_count": 30,
   "metadata": {},
   "outputs": [],
   "source": [
    "import numpy as np\n",
    "import pandas as pd\n",
    "import seaborn as sns\n",
    "import requests\n"
   ]
  },
  {
   "cell_type": "markdown",
   "metadata": {},
   "source": [
    "# Stringency data by country"
   ]
  },
  {
   "cell_type": "code",
   "execution_count": 31,
   "metadata": {},
   "outputs": [
    {
     "name": "stdout",
     "output_type": "stream",
     "text": [
      "  CountryName       Date  ConfirmedCases  ConfirmedDeaths  StringencyIndex\n",
      "0       Aruba 2020-01-01             NaN              NaN              0.0\n",
      "1       Aruba 2020-01-02             NaN              NaN              0.0\n",
      "2       Aruba 2020-01-03             NaN              NaN              0.0\n",
      "3       Aruba 2020-01-04             NaN              NaN              0.0\n",
      "4       Aruba 2020-01-05             NaN              NaN              0.0\n"
     ]
    }
   ],
   "source": [
    "# Read in stringency data\n",
    "file = (\n",
    "    \"Big Data Challenge_ Data and Challenge Statements/Data/Stringency data/OxCGRT_latest_hackathon.csv\"\n",
    ")\n",
    "stringency = pd.read_csv(file, parse_dates=['Date'], usecols=['CountryName', 'Date', \n",
    "                                                              'StringencyIndex', 'ConfirmedCases',\n",
    "                                                             'ConfirmedDeaths'])\n",
    "print(stringency.head())"
   ]
  },
  {
   "cell_type": "code",
   "execution_count": 32,
   "metadata": {},
   "outputs": [
    {
     "name": "stdout",
     "output_type": "stream",
     "text": [
      "CountryName            0\n",
      "Date                   0\n",
      "ConfirmedCases     10426\n",
      "ConfirmedDeaths    10426\n",
      "StringencyIndex     1382\n",
      "dtype: int64\n"
     ]
    }
   ],
   "source": [
    "# Check for missing values\n",
    "print(stringency.isna().sum())"
   ]
  },
  {
   "cell_type": "markdown",
   "metadata": {},
   "source": [
    "## Reformat data"
   ]
  },
  {
   "cell_type": "code",
   "execution_count": 33,
   "metadata": {},
   "outputs": [
    {
     "name": "stdout",
     "output_type": "stream",
     "text": [
      "  CountryName       Date  ConfirmedCases  ConfirmedDeaths  StringencyIndex  \\\n",
      "0       Aruba 2020-01-01             NaN              NaN              0.0   \n",
      "1       Aruba 2020-01-02             NaN              NaN              0.0   \n",
      "2       Aruba 2020-01-03             NaN              NaN              0.0   \n",
      "3       Aruba 2020-01-04             NaN              NaN              0.0   \n",
      "4       Aruba 2020-01-05             NaN              NaN              0.0   \n",
      "\n",
      "   Year    Month  day  \n",
      "0  2020  January    1  \n",
      "1  2020  January    2  \n",
      "2  2020  January    3  \n",
      "3  2020  January    4  \n",
      "4  2020  January    5  \n"
     ]
    }
   ],
   "source": [
    "# Create new columns with Year and Month\n",
    "stringency.loc[:,'Year'] = stringency.loc[:,'Date'].dt.year\n",
    "stringency.loc[:,'Month'] = stringency.loc[:,'Date'].dt.month_name()\n",
    "stringency.loc[:,'day'] = stringency.loc[:,'Date'].dt.day\n",
    "print(stringency.head())\n"
   ]
  },
  {
   "cell_type": "markdown",
   "metadata": {},
   "source": [
    "# Electricity data for the UK"
   ]
  },
  {
   "cell_type": "code",
   "execution_count": 34,
   "metadata": {},
   "outputs": [
    {
     "name": "stdout",
     "output_type": "stream",
     "text": [
      "                       YEAR      MONTH  electricity \n",
      "0                      2017    January     29.860327\n",
      "1                      2017   February     26.207024\n",
      "2                      2017      March     26.369292\n",
      "3                      2017      April     24.043366\n",
      "4                      2017        May     24.157889\n",
      "5                      2017       June     22.589158\n",
      "6                      2017       July     23.254473\n",
      "7                      2017     August     23.576351\n",
      "8                      2017  September     23.683497\n",
      "9                      2017    October     25.338122\n",
      "10                     2017   November     27.786430\n",
      "11                     2017   December     29.302651\n",
      "12                     2018    January     28.582218\n",
      "13                     2018   February     27.061782\n",
      "14                     2018      March     29.225837\n",
      "15                     2018      April     25.640237\n",
      "16                     2018        May     23.697955\n",
      "17                     2018       June     22.469147\n",
      "18                     2018       July     23.620447\n",
      "19                     2018     August     23.757319\n",
      "20                     2018  September     23.269388\n",
      "21                     2018    October     25.133851\n",
      "22                     2018   November     27.067643\n",
      "23                     2018   December     27.848807\n",
      "24                     2019    January     29.332878\n",
      "25                     2019   February     25.136379\n",
      "26                     2019      March     26.799207\n",
      "27                     2019      April     24.517523\n",
      "28                     2019        May     23.796177\n",
      "29                     2019       June     22.293721\n",
      "30                     2019       July     23.116223\n",
      "31                     2019     August     22.742809\n",
      "32                     2019  September     22.870830\n",
      "33                     2019    October     25.767437\n",
      "34                     2019   November     27.566669\n",
      "35                     2019   December     27.816058\n",
      "36                     2020    January     27.674487\n",
      "37                     2020   February     25.986530\n",
      "38                     2020      March     25.892542\n",
      "39                     2020      April     20.885840\n",
      "40                     2020        May     20.533198\n",
      "41                     2020       June     20.374377\n",
      "42                      NaN        NaN           NaN\n",
      "43  Return to contents page        NaN           NaN\n"
     ]
    }
   ],
   "source": [
    "# Read in electricity data\n",
    "file3 = (\"Big Data Challenge_ Data and Challenge Statements/Data/Electricity data/ET_5.5_AUG_20.xls\")\n",
    "\n",
    "electricity = pd.read_excel(file3, sheet_name='Month', usecols=['YEAR', 'MONTH', 'electricity '], header=[7], skiprows= [i for i in range(8, 273) ])\n",
    "print(electricity)"
   ]
  },
  {
   "cell_type": "code",
   "execution_count": 35,
   "metadata": {},
   "outputs": [
    {
     "name": "stdout",
     "output_type": "stream",
     "text": [
      "   Year     Month  Total consumption of electricity used (all providers) TWh\n",
      "0  2017   January                                          29.860327        \n",
      "1  2017  February                                          26.207024        \n",
      "2  2017     March                                          26.369292        \n",
      "3  2017     April                                          24.043366        \n",
      "4  2017       May                                          24.157889        \n"
     ]
    }
   ],
   "source": [
    "# Rename electicity column\n",
    "electricity = electricity.rename(columns={'electricity ':'Total consumption of electricity used (all providers) TWh', 'YEAR':'Year', 'MONTH':'Month'})\n",
    "print(electricity.head())"
   ]
  },
  {
   "cell_type": "code",
   "execution_count": 36,
   "metadata": {},
   "outputs": [],
   "source": [
    "# Remove rows containing nan in a specific column\n",
    "electricity = electricity[pd.notnull(electricity['Month'])]"
   ]
  },
  {
   "cell_type": "code",
   "execution_count": 37,
   "metadata": {},
   "outputs": [
    {
     "name": "stdout",
     "output_type": "stream",
     "text": [
      "Year                                                         0\n",
      "Month                                                        0\n",
      "Total consumption of electricity used (all providers) TWh    0\n",
      "dtype: int64\n"
     ]
    }
   ],
   "source": [
    "# Check for missing values\n",
    "print(electricity.isna().sum())"
   ]
  },
  {
   "cell_type": "code",
   "execution_count": 38,
   "metadata": {},
   "outputs": [
    {
     "name": "stdout",
     "output_type": "stream",
     "text": [
      "0    2017-01-15\n",
      "1    2017-02-15\n",
      "2    2017-03-15\n",
      "3    2017-04-15\n",
      "4    2017-05-15\n",
      "5    2017-06-15\n",
      "6    2017-07-15\n",
      "7    2017-08-15\n",
      "8    2017-09-15\n",
      "9    2017-10-15\n",
      "10   2017-11-15\n",
      "11   2017-12-15\n",
      "12   2018-01-15\n",
      "13   2018-02-15\n",
      "14   2018-03-15\n",
      "15   2018-04-15\n",
      "16   2018-05-15\n",
      "17   2018-06-15\n",
      "18   2018-07-15\n",
      "19   2018-08-15\n",
      "20   2018-09-15\n",
      "21   2018-10-15\n",
      "22   2018-11-15\n",
      "23   2018-12-15\n",
      "24   2019-01-15\n",
      "25   2019-02-15\n",
      "26   2019-03-15\n",
      "27   2019-04-15\n",
      "28   2019-05-15\n",
      "29   2019-06-15\n",
      "30   2019-07-15\n",
      "31   2019-08-15\n",
      "32   2019-09-15\n",
      "33   2019-10-15\n",
      "34   2019-11-15\n",
      "35   2019-12-15\n",
      "36   2020-01-15\n",
      "37   2020-02-15\n",
      "38   2020-03-15\n",
      "39   2020-04-15\n",
      "40   2020-05-15\n",
      "41   2020-06-15\n",
      "Name: Date, dtype: datetime64[ns]\n"
     ]
    }
   ],
   "source": [
    "## Create a date column so that we can merge on date - use 15th just as median date \n",
    "## NOTE THIS IS NOT A REAL DATE, only MONTH AND YEAR are correct\n",
    "electricity['day'] = '15'\n",
    "# Combine day, month and year of birth into one column\n",
    "electricity['Date'] =  electricity['Year'].astype(str).str.zfill(4) + \"-\" + electricity['Month'].astype(str).str.zfill(2) + \"-\" + electricity['day'].astype(str).str.zfill(2)\n",
    "# Convert date of birth column into datetime\n",
    "electricity['Date'] = electricity['Date'].astype('datetime64[ns]')\n",
    "\n",
    "print(electricity['Date'])\n"
   ]
  },
  {
   "cell_type": "code",
   "execution_count": 39,
   "metadata": {},
   "outputs": [
    {
     "name": "stdout",
     "output_type": "stream",
     "text": [
      "<class 'pandas.core.frame.DataFrame'>\n",
      "RangeIndex: 42920 entries, 0 to 42919\n",
      "Data columns (total 8 columns):\n",
      " #   Column           Non-Null Count  Dtype         \n",
      "---  ------           --------------  -----         \n",
      " 0   CountryName      42920 non-null  object        \n",
      " 1   Date             42920 non-null  datetime64[ns]\n",
      " 2   ConfirmedCases   32494 non-null  float64       \n",
      " 3   ConfirmedDeaths  32494 non-null  float64       \n",
      " 4   StringencyIndex  41538 non-null  float64       \n",
      " 5   Year             42920 non-null  int64         \n",
      " 6   Month            42920 non-null  object        \n",
      " 7   day              42920 non-null  int64         \n",
      "dtypes: datetime64[ns](1), float64(3), int64(2), object(2)\n",
      "memory usage: 2.6+ MB\n"
     ]
    }
   ],
   "source": [
    "stringency.info()"
   ]
  },
  {
   "cell_type": "code",
   "execution_count": 40,
   "metadata": {},
   "outputs": [
    {
     "name": "stdout",
     "output_type": "stream",
     "text": [
      "(42, 5)\n",
      "(42920, 8)\n"
     ]
    }
   ],
   "source": [
    "print(electricity.shape)\n",
    "print(stringency.shape)"
   ]
  },
  {
   "cell_type": "markdown",
   "metadata": {},
   "source": [
    "##  Merge country data "
   ]
  },
  {
   "cell_type": "code",
   "execution_count": 41,
   "metadata": {},
   "outputs": [
    {
     "name": "stdout",
     "output_type": "stream",
     "text": [
      "      Year_x   Month_x  \\\n",
      "0       2017   January   \n",
      "1       2017  February   \n",
      "2       2017     March   \n",
      "3       2017     April   \n",
      "4       2017       May   \n",
      "...      ...       ...   \n",
      "42951    NaN       NaN   \n",
      "42952    NaN       NaN   \n",
      "42953    NaN       NaN   \n",
      "42954    NaN       NaN   \n",
      "42955    NaN       NaN   \n",
      "\n",
      "       Total consumption of electricity used (all providers) TWh day_x  \\\n",
      "0                                              29.860327            15   \n",
      "1                                              26.207024            15   \n",
      "2                                              26.369292            15   \n",
      "3                                              24.043366            15   \n",
      "4                                              24.157889            15   \n",
      "...                                                  ...           ...   \n",
      "42951                                                NaN           NaN   \n",
      "42952                                                NaN           NaN   \n",
      "42953                                                NaN           NaN   \n",
      "42954                                                NaN           NaN   \n",
      "42955                                                NaN           NaN   \n",
      "\n",
      "            Date       CountryName  ConfirmedCases  ConfirmedDeaths  \\\n",
      "0     2017-01-15               NaN             NaN              NaN   \n",
      "1     2017-02-15               NaN             NaN              NaN   \n",
      "2     2017-03-15               NaN             NaN              NaN   \n",
      "3     2017-04-15               NaN             NaN              NaN   \n",
      "4     2017-05-15               NaN             NaN              NaN   \n",
      "...          ...               ...             ...              ...   \n",
      "42951 2020-08-19            Kosovo             NaN              NaN   \n",
      "42952 2020-08-19          Anguilla             3.0              0.0   \n",
      "42953 2020-08-19  Falkland Islands            13.0              0.0   \n",
      "42954 2020-08-19        Montserrat             NaN              NaN   \n",
      "42955 2020-08-19  Pitcairn Islands             NaN              NaN   \n",
      "\n",
      "       StringencyIndex  Year_y Month_y day_y  \n",
      "0                  NaN     NaN     NaN   NaN  \n",
      "1                  NaN     NaN     NaN   NaN  \n",
      "2                  NaN     NaN     NaN   NaN  \n",
      "3                  NaN     NaN     NaN   NaN  \n",
      "4                  NaN     NaN     NaN   NaN  \n",
      "...                ...     ...     ...   ...  \n",
      "42951              NaN  2020.0  August    19  \n",
      "42952              NaN  2020.0  August    19  \n",
      "42953              NaN  2020.0  August    19  \n",
      "42954              NaN  2020.0  August    19  \n",
      "42955              NaN  2020.0  August    19  \n",
      "\n",
      "[42956 rows x 12 columns]\n"
     ]
    }
   ],
   "source": [
    "stringency.day = stringency.day.astype(str)\n",
    "\n",
    "country_data = electricity.merge(stringency, on='Date', how='outer')\n",
    "print(country_data)\n",
    "country_data.to_csv(\"Big Data Challenge_ Data and Challenge Statements/Data/country_data.csv\")"
   ]
  },
  {
   "cell_type": "markdown",
   "metadata": {},
   "source": [
    "# Road traffic data by city"
   ]
  },
  {
   "cell_type": "code",
   "execution_count": 42,
   "metadata": {},
   "outputs": [
    {
     "name": "stdout",
     "output_type": "stream",
     "text": [
      "Daily counts London                                                      \\\n",
      "               Cars Motorbikes Buses Trucks Vans Pedestrians & cyclists   \n",
      "2020-03-01        *          *     *      *    *                      *   \n",
      "2020-03-02        *          *     *      *    *                      *   \n",
      "2020-03-03        *          *     *      *    *                      *   \n",
      "2020-03-04        *          *     *      *    *                      *   \n",
      "2020-03-05        *          *     *      *    *                      *   \n",
      "\n",
      "Daily counts North East                          ... Greater Manchester  \\\n",
      "                   Cars Motorbikes Buses Trucks  ...              Buses   \n",
      "2020-03-01        55378         18  2249   1130  ...                  *   \n",
      "2020-03-02        54773         24  2279   1159  ...                  *   \n",
      "2020-03-03        56045         29  2283   1168  ...                  *   \n",
      "2020-03-04        53209         20  2262   1150  ...                  *   \n",
      "2020-03-05        52897         14  2278   1211  ...                  *   \n",
      "\n",
      "Daily counts                                    Reading                   \\\n",
      "             Trucks Vans Pedestrians & cyclists    Cars Motorbikes Buses   \n",
      "2020-03-01        *    *                      *       *          *     *   \n",
      "2020-03-02        *    *                      *       *          *     *   \n",
      "2020-03-03        *    *                      *       *          *     *   \n",
      "2020-03-04        *    *                      *       *          *     *   \n",
      "2020-03-05        *    *                      *       *          *     *   \n",
      "\n",
      "Daily counts                                     \n",
      "             Trucks Vans Pedestrians & cyclists  \n",
      "2020-03-01        *    *                      *  \n",
      "2020-03-02        *    *                      *  \n",
      "2020-03-03        *    *                      *  \n",
      "2020-03-04        *    *                      *  \n",
      "2020-03-05        *    *                      *  \n",
      "\n",
      "[5 rows x 42 columns]\n"
     ]
    }
   ],
   "source": [
    "# Read in traffic data from ONS\n",
    "file2 = (\n",
    "    \"Traffic_ONS/10septembertrafficcamerasdataset.xlsx\"\n",
    ")\n",
    "traffic = pd.read_excel(file2, sheet_name='Seasonally adjusted', header=[0, 1], skiprows=[2, 3], index_col=0)\n",
    "print(traffic.head())"
   ]
  },
  {
   "cell_type": "markdown",
   "metadata": {},
   "source": [
    "## Handle missing data"
   ]
  },
  {
   "cell_type": "code",
   "execution_count": null,
   "metadata": {},
   "outputs": [],
   "source": [
    "# Replace the asterisk with empty cells\n",
    "traffic = traffic.replace('*', '')\n",
    "print(traffic)"
   ]
  },
  {
   "cell_type": "markdown",
   "metadata": {},
   "source": [
    "## Reformat data"
   ]
  },
  {
   "cell_type": "code",
   "execution_count": null,
   "metadata": {},
   "outputs": [],
   "source": [
    "# Melt traffic data\n",
    "long_traffic = pd.melt(traffic, var_name=['City','Transport mode'], value_name='Count', ignore_index=False)\n",
    "print(long_traffic)\n",
    "long_traffic = pd.DataFrame(long_traffic.reset_index())\n",
    "\n",
    "# Rename date column\n",
    "long_traffic = long_traffic.rename(columns={\"index\": \"Date\"})\n",
    "print(long_traffic)"
   ]
  },
  {
   "cell_type": "code",
   "execution_count": null,
   "metadata": {},
   "outputs": [],
   "source": [
    "# Create new columns with Year and Month\n",
    "long_traffic.loc[:,'Year'] = long_traffic.loc[:,'Date'].dt.year\n",
    "long_traffic.loc[:,'Month'] = long_traffic.loc[:,'Date'].dt.month\n",
    "print(long_traffic.head())\n",
    "\n",
    "\n",
    "long_traffic.loc[:,'Year'] = long_traffic.loc[:,'Year'].astype(int)\n",
    "long_traffic.loc[:, 'Month'] = long_traffic.loc[:, 'Month'].astype(int)\n",
    "print(long_traffic.info())"
   ]
  },
  {
   "cell_type": "code",
   "execution_count": null,
   "metadata": {},
   "outputs": [],
   "source": [
    "## Check it can plot - just for de-bugging\n",
    "sns.lineplot(\n",
    "    data = long_traffic,\n",
    "    x = 'Month',\n",
    "    y = 'Count',\n",
    "    aspect=3\n",
    ")"
   ]
  },
  {
   "cell_type": "markdown",
   "metadata": {},
   "source": [
    "# Air quality"
   ]
  },
  {
   "cell_type": "code",
   "execution_count": 47,
   "metadata": {},
   "outputs": [
    {
     "name": "stdout",
     "output_type": "stream",
     "text": [
      "     Site Species   ReadingDateTime  Value   Units Provisional or Ratified\n",
      "0     LW1     NO2  01/01/2017 00:00   31.8  ug m-3                       R\n",
      "1     LW1     NO2  02/01/2017 00:00   40.4  ug m-3                       R\n",
      "2     LW1     NO2  03/01/2017 00:00   65.8  ug m-3                       R\n",
      "3     LW1     NO2  04/01/2017 00:00   45.8  ug m-3                       R\n",
      "4     LW1     NO2  05/01/2017 00:00  107.8  ug m-3                       R\n",
      "...   ...     ...               ...    ...     ...                     ...\n",
      "5470  HP1     NO2  27/12/2019 00:00   33.7  ug m-3                       P\n",
      "5471  HP1     NO2  28/12/2019 00:00   28.0  ug m-3                       P\n",
      "5472  HP1     NO2  29/12/2019 00:00   25.8  ug m-3                       P\n",
      "5473  HP1     NO2  30/12/2019 00:00   40.4  ug m-3                       P\n",
      "5474  HP1     NO2  31/12/2019 00:00   41.5  ug m-3                       P\n",
      "\n",
      "[5475 rows x 6 columns]\n"
     ]
    }
   ],
   "source": [
    "# Read in the air quality data \n",
    "file_air = (\"Big Data Challenge_ Data and Challenge Statements/Data/Air Quality /LaqnData.csv\")\n",
    "\n",
    "ND_Lewisham = pd.read_csv(file_air)\n",
    "print(ND_Lewisham)"
   ]
  },
  {
   "cell_type": "code",
   "execution_count": null,
   "metadata": {},
   "outputs": [],
   "source": []
  }
 ],
 "metadata": {
  "kernelspec": {
   "display_name": "Python 3",
   "language": "python",
   "name": "python3"
  },
  "language_info": {
   "codemirror_mode": {
    "name": "ipython",
    "version": 3
   },
   "file_extension": ".py",
   "mimetype": "text/x-python",
   "name": "python",
   "nbconvert_exporter": "python",
   "pygments_lexer": "ipython3",
   "version": "3.7.6"
  }
 },
 "nbformat": 4,
 "nbformat_minor": 4
}
