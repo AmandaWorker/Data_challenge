{
 "cells": [
  {
   "cell_type": "markdown",
   "metadata": {},
   "source": [
    "# The Big Data Challenge"
   ]
  },
  {
   "cell_type": "markdown",
   "metadata": {},
   "source": [
    "# Import packages"
   ]
  },
  {
   "cell_type": "code",
   "execution_count": 1,
   "metadata": {},
   "outputs": [],
   "source": [
    "import numpy as np\n",
    "import pandas as pd\n",
    "import seaborn as sns\n",
    "import requests\n",
    "from glob import glob\n",
    "import os"
   ]
  },
  {
   "cell_type": "markdown",
   "metadata": {},
   "source": [
    "# Stringency data by country"
   ]
  },
  {
   "cell_type": "code",
   "execution_count": 2,
   "metadata": {},
   "outputs": [
    {
     "name": "stdout",
     "output_type": "stream",
     "text": [
      "  CountryName       Date  ConfirmedCases  ConfirmedDeaths  StringencyIndex\n",
      "0       Aruba 2020-01-01             NaN              NaN              0.0\n",
      "1       Aruba 2020-01-02             NaN              NaN              0.0\n",
      "2       Aruba 2020-01-03             NaN              NaN              0.0\n",
      "3       Aruba 2020-01-04             NaN              NaN              0.0\n",
      "4       Aruba 2020-01-05             NaN              NaN              0.0\n"
     ]
    }
   ],
   "source": [
    "# Read in stringency data\n",
    "file = (\n",
    "    \"Big Data Challenge_ Data and Challenge Statements/Data/Stringency data/OxCGRT_latest_hackathon.csv\"\n",
    ")\n",
    "stringency = pd.read_csv(file, parse_dates=['Date'], usecols=['CountryName', 'Date', \n",
    "                                                              'StringencyIndex', 'ConfirmedCases',\n",
    "                                                             'ConfirmedDeaths'])\n",
    "print(stringency.head())"
   ]
  },
  {
   "cell_type": "code",
   "execution_count": 3,
   "metadata": {},
   "outputs": [
    {
     "name": "stdout",
     "output_type": "stream",
     "text": [
      "CountryName            0\n",
      "Date                   0\n",
      "ConfirmedCases     10426\n",
      "ConfirmedDeaths    10426\n",
      "StringencyIndex     1382\n",
      "dtype: int64\n"
     ]
    }
   ],
   "source": [
    "# Check for missing values\n",
    "print(stringency.isna().sum())"
   ]
  },
  {
   "cell_type": "markdown",
   "metadata": {},
   "source": [
    "## Reformat data"
   ]
  },
  {
   "cell_type": "code",
   "execution_count": 4,
   "metadata": {},
   "outputs": [],
   "source": [
    "# # Create new columns with Year and Month\n",
    "# stringency.loc[:,'Year'] = stringency.loc[:,'Date'].dt.year\n",
    "# stringency.loc[:,'Month'] = stringency.loc[:,'Date'].dt.month_name()\n",
    "# stringency.loc[:,'day'] = stringency.loc[:,'Date'].dt.day\n",
    "# print(stringency.head())\n"
   ]
  },
  {
   "cell_type": "markdown",
   "metadata": {},
   "source": [
    "# Electricity data for the UK"
   ]
  },
  {
   "cell_type": "code",
   "execution_count": 5,
   "metadata": {},
   "outputs": [
    {
     "name": "stdout",
     "output_type": "stream",
     "text": [
      "                       YEAR      MONTH  electricity \n",
      "0                      2017    January     29.860327\n",
      "1                      2017   February     26.207024\n",
      "2                      2017      March     26.369292\n",
      "3                      2017      April     24.043366\n",
      "4                      2017        May     24.157889\n",
      "5                      2017       June     22.589158\n",
      "6                      2017       July     23.254473\n",
      "7                      2017     August     23.576351\n",
      "8                      2017  September     23.683497\n",
      "9                      2017    October     25.338122\n",
      "10                     2017   November     27.786430\n",
      "11                     2017   December     29.302651\n",
      "12                     2018    January     28.582218\n",
      "13                     2018   February     27.061782\n",
      "14                     2018      March     29.225837\n",
      "15                     2018      April     25.640237\n",
      "16                     2018        May     23.697955\n",
      "17                     2018       June     22.469147\n",
      "18                     2018       July     23.620447\n",
      "19                     2018     August     23.757319\n",
      "20                     2018  September     23.269388\n",
      "21                     2018    October     25.133851\n",
      "22                     2018   November     27.067643\n",
      "23                     2018   December     27.848807\n",
      "24                     2019    January     29.332878\n",
      "25                     2019   February     25.136379\n",
      "26                     2019      March     26.799207\n",
      "27                     2019      April     24.517523\n",
      "28                     2019        May     23.796177\n",
      "29                     2019       June     22.293721\n",
      "30                     2019       July     23.116223\n",
      "31                     2019     August     22.742809\n",
      "32                     2019  September     22.870830\n",
      "33                     2019    October     25.767437\n",
      "34                     2019   November     27.566669\n",
      "35                     2019   December     27.816058\n",
      "36                     2020    January     27.674487\n",
      "37                     2020   February     25.986530\n",
      "38                     2020      March     25.892542\n",
      "39                     2020      April     20.885840\n",
      "40                     2020        May     20.533198\n",
      "41                     2020       June     20.374377\n",
      "42                      NaN        NaN           NaN\n",
      "43  Return to contents page        NaN           NaN\n"
     ]
    }
   ],
   "source": [
    "# Read in electricity data\n",
    "file3 = (\"Big Data Challenge_ Data and Challenge Statements/Data/Electricity data/ET_5.5_AUG_20.xls\")\n",
    "\n",
    "electricity = pd.read_excel(file3, sheet_name='Month', usecols=['YEAR', 'MONTH', 'electricity '], header=[7], skiprows= [i for i in range(8, 273) ])\n",
    "print(electricity)"
   ]
  },
  {
   "cell_type": "code",
   "execution_count": 6,
   "metadata": {},
   "outputs": [
    {
     "name": "stdout",
     "output_type": "stream",
     "text": [
      "   Year     Month  Total consumption of electricity used (all providers) TWh\n",
      "0  2017   January                                          29.860327        \n",
      "1  2017  February                                          26.207024        \n",
      "2  2017     March                                          26.369292        \n",
      "3  2017     April                                          24.043366        \n",
      "4  2017       May                                          24.157889        \n"
     ]
    }
   ],
   "source": [
    "# Rename electicity column\n",
    "electricity = electricity.rename(columns={'electricity ':'Total consumption of electricity used (all providers) TWh', 'YEAR':'Year', 'MONTH':'Month'})\n",
    "print(electricity.head())"
   ]
  },
  {
   "cell_type": "code",
   "execution_count": 7,
   "metadata": {},
   "outputs": [],
   "source": [
    "# Remove rows containing nan in a specific column\n",
    "electricity = electricity[pd.notnull(electricity['Month'])]"
   ]
  },
  {
   "cell_type": "code",
   "execution_count": 8,
   "metadata": {},
   "outputs": [
    {
     "name": "stdout",
     "output_type": "stream",
     "text": [
      "Year                                                         0\n",
      "Month                                                        0\n",
      "Total consumption of electricity used (all providers) TWh    0\n",
      "dtype: int64\n"
     ]
    }
   ],
   "source": [
    "# Check for missing values\n",
    "print(electricity.isna().sum())"
   ]
  },
  {
   "cell_type": "code",
   "execution_count": 9,
   "metadata": {},
   "outputs": [
    {
     "name": "stdout",
     "output_type": "stream",
     "text": [
      "0    2017-01-15\n",
      "1    2017-02-15\n",
      "2    2017-03-15\n",
      "3    2017-04-15\n",
      "4    2017-05-15\n",
      "5    2017-06-15\n",
      "6    2017-07-15\n",
      "7    2017-08-15\n",
      "8    2017-09-15\n",
      "9    2017-10-15\n",
      "10   2017-11-15\n",
      "11   2017-12-15\n",
      "12   2018-01-15\n",
      "13   2018-02-15\n",
      "14   2018-03-15\n",
      "15   2018-04-15\n",
      "16   2018-05-15\n",
      "17   2018-06-15\n",
      "18   2018-07-15\n",
      "19   2018-08-15\n",
      "20   2018-09-15\n",
      "21   2018-10-15\n",
      "22   2018-11-15\n",
      "23   2018-12-15\n",
      "24   2019-01-15\n",
      "25   2019-02-15\n",
      "26   2019-03-15\n",
      "27   2019-04-15\n",
      "28   2019-05-15\n",
      "29   2019-06-15\n",
      "30   2019-07-15\n",
      "31   2019-08-15\n",
      "32   2019-09-15\n",
      "33   2019-10-15\n",
      "34   2019-11-15\n",
      "35   2019-12-15\n",
      "36   2020-01-15\n",
      "37   2020-02-15\n",
      "38   2020-03-15\n",
      "39   2020-04-15\n",
      "40   2020-05-15\n",
      "41   2020-06-15\n",
      "Name: Date, dtype: datetime64[ns]\n"
     ]
    }
   ],
   "source": [
    "## Create a date column so that we can merge on date - use 15th just as median date \n",
    "## NOTE THIS IS NOT A REAL DATE, only MONTH AND YEAR are correct\n",
    "electricity['day'] = '15'\n",
    "# Combine day, month and year of birth into one column\n",
    "electricity['Date'] =  electricity['Year'].astype(str).str.zfill(4) + \"-\" + electricity['Month'].astype(str).str.zfill(2) + \"-\" + electricity['day'].astype(str).str.zfill(2)\n",
    "# Convert date of birth column into datetime\n",
    "electricity['Date'] = electricity['Date'].astype('datetime64[ns]')\n",
    "\n",
    "print(electricity['Date'])\n"
   ]
  },
  {
   "cell_type": "code",
   "execution_count": 10,
   "metadata": {},
   "outputs": [
    {
     "name": "stdout",
     "output_type": "stream",
     "text": [
      "<class 'pandas.core.frame.DataFrame'>\n",
      "RangeIndex: 42920 entries, 0 to 42919\n",
      "Data columns (total 5 columns):\n",
      " #   Column           Non-Null Count  Dtype         \n",
      "---  ------           --------------  -----         \n",
      " 0   CountryName      42920 non-null  object        \n",
      " 1   Date             42920 non-null  datetime64[ns]\n",
      " 2   ConfirmedCases   32494 non-null  float64       \n",
      " 3   ConfirmedDeaths  32494 non-null  float64       \n",
      " 4   StringencyIndex  41538 non-null  float64       \n",
      "dtypes: datetime64[ns](1), float64(3), object(1)\n",
      "memory usage: 1.6+ MB\n"
     ]
    }
   ],
   "source": [
    "stringency.info()"
   ]
  },
  {
   "cell_type": "code",
   "execution_count": 11,
   "metadata": {},
   "outputs": [
    {
     "name": "stdout",
     "output_type": "stream",
     "text": [
      "(42, 5)\n",
      "(42920, 5)\n"
     ]
    }
   ],
   "source": [
    "print(electricity.shape)\n",
    "print(stringency.shape)"
   ]
  },
  {
   "cell_type": "markdown",
   "metadata": {},
   "source": [
    "# Road traffic data by city"
   ]
  },
  {
   "cell_type": "code",
   "execution_count": 13,
   "metadata": {},
   "outputs": [
    {
     "name": "stdout",
     "output_type": "stream",
     "text": [
      "Daily counts London                                                      \\\n",
      "               Cars Motorbikes Buses Trucks Vans Pedestrians & cyclists   \n",
      "2020-03-01        *          *     *      *    *                      *   \n",
      "2020-03-02        *          *     *      *    *                      *   \n",
      "2020-03-03        *          *     *      *    *                      *   \n",
      "2020-03-04        *          *     *      *    *                      *   \n",
      "2020-03-05        *          *     *      *    *                      *   \n",
      "\n",
      "Daily counts North East                          ... Greater Manchester  \\\n",
      "                   Cars Motorbikes Buses Trucks  ...              Buses   \n",
      "2020-03-01        55378         18  2249   1130  ...                  *   \n",
      "2020-03-02        54773         24  2279   1159  ...                  *   \n",
      "2020-03-03        56045         29  2283   1168  ...                  *   \n",
      "2020-03-04        53209         20  2262   1150  ...                  *   \n",
      "2020-03-05        52897         14  2278   1211  ...                  *   \n",
      "\n",
      "Daily counts                                    Reading                   \\\n",
      "             Trucks Vans Pedestrians & cyclists    Cars Motorbikes Buses   \n",
      "2020-03-01        *    *                      *       *          *     *   \n",
      "2020-03-02        *    *                      *       *          *     *   \n",
      "2020-03-03        *    *                      *       *          *     *   \n",
      "2020-03-04        *    *                      *       *          *     *   \n",
      "2020-03-05        *    *                      *       *          *     *   \n",
      "\n",
      "Daily counts                                     \n",
      "             Trucks Vans Pedestrians & cyclists  \n",
      "2020-03-01        *    *                      *  \n",
      "2020-03-02        *    *                      *  \n",
      "2020-03-03        *    *                      *  \n",
      "2020-03-04        *    *                      *  \n",
      "2020-03-05        *    *                      *  \n",
      "\n",
      "[5 rows x 42 columns]\n"
     ]
    }
   ],
   "source": [
    "# Read in traffic data from ONS\n",
    "file2 = (\n",
    "    \"Traffic_ONS/10septembertrafficcamerasdataset.xlsx\"\n",
    ")\n",
    "traffic = pd.read_excel(file2, sheet_name='Seasonally adjusted', header=[0, 1], skiprows=[2, 3], index_col=0)\n",
    "print(traffic.head())"
   ]
  },
  {
   "cell_type": "markdown",
   "metadata": {},
   "source": [
    "## Handle missing data"
   ]
  },
  {
   "cell_type": "code",
   "execution_count": 14,
   "metadata": {},
   "outputs": [
    {
     "name": "stdout",
     "output_type": "stream",
     "text": [
      "Daily counts    London                                        \\\n",
      "                  Cars Motorbikes    Buses   Trucks     Vans   \n",
      "2020-03-01         NaN        NaN      NaN      NaN      NaN   \n",
      "2020-03-02         NaN        NaN      NaN      NaN      NaN   \n",
      "2020-03-03         NaN        NaN      NaN      NaN      NaN   \n",
      "2020-03-04         NaN        NaN      NaN      NaN      NaN   \n",
      "2020-03-05         NaN        NaN      NaN      NaN      NaN   \n",
      "...                ...        ...      ...      ...      ...   \n",
      "2020-09-02    272143.0      548.0  17811.0  17905.0  39621.0   \n",
      "2020-09-03    276908.0      598.0  18234.0  18855.0  40927.0   \n",
      "2020-09-04    275792.0      594.0  18004.0  18385.0  40294.0   \n",
      "2020-09-05    279997.0      564.0  17237.0  18026.0  39143.0   \n",
      "2020-09-06    275020.0      568.0  16991.0  17475.0  38403.0   \n",
      "\n",
      "Daily counts                        North East                          ...  \\\n",
      "             Pedestrians & cyclists       Cars Motorbikes Buses Trucks  ...   \n",
      "2020-03-01                      NaN      55378         18  2249   1130  ...   \n",
      "2020-03-02                      NaN      54773         24  2279   1159  ...   \n",
      "2020-03-03                      NaN      56045         29  2283   1168  ...   \n",
      "2020-03-04                      NaN      53209         20  2262   1150  ...   \n",
      "2020-03-05                      NaN      52897         14  2278   1211  ...   \n",
      "...                             ...        ...        ...   ...    ...  ...   \n",
      "2020-09-02                  41057.0      47753         22  1967   1165  ...   \n",
      "2020-09-03                  45666.0      51797         20  2034   1137  ...   \n",
      "2020-09-04                  46254.0      51120         30  2058   1189  ...   \n",
      "2020-09-05                  42122.0      52490         29  2067   1189  ...   \n",
      "2020-09-06                  41273.0      53712         19  2151   1179  ...   \n",
      "\n",
      "Daily counts Greater Manchester                                      Reading  \\\n",
      "                          Buses Trucks   Vans Pedestrians & cyclists    Cars   \n",
      "2020-03-01                  NaN    NaN    NaN                    NaN     NaN   \n",
      "2020-03-02                  NaN    NaN    NaN                    NaN     NaN   \n",
      "2020-03-03                  NaN    NaN    NaN                    NaN     NaN   \n",
      "2020-03-04                  NaN    NaN    NaN                    NaN     NaN   \n",
      "2020-03-05                  NaN    NaN    NaN                    NaN     NaN   \n",
      "...                         ...    ...    ...                    ...     ...   \n",
      "2020-09-02                398.0  316.0  841.0                  543.0  2258.0   \n",
      "2020-09-03                384.0  297.0  783.0                  525.0  2507.0   \n",
      "2020-09-04                372.0  278.0  776.0                  509.0  2262.0   \n",
      "2020-09-05                384.0  331.0  832.0                  437.0  2567.0   \n",
      "2020-09-06                436.0  338.0  858.0                  580.0  2910.0   \n",
      "\n",
      "Daily counts                                                        \n",
      "             Motorbikes Buses Trucks   Vans Pedestrians & cyclists  \n",
      "2020-03-01          NaN   NaN    NaN    NaN                    NaN  \n",
      "2020-03-02          NaN   NaN    NaN    NaN                    NaN  \n",
      "2020-03-03          NaN   NaN    NaN    NaN                    NaN  \n",
      "2020-03-04          NaN   NaN    NaN    NaN                    NaN  \n",
      "2020-03-05          NaN   NaN    NaN    NaN                    NaN  \n",
      "...                 ...   ...    ...    ...                    ...  \n",
      "2020-09-02            #  20.0   71.0  249.0                   47.0  \n",
      "2020-09-03            #  21.0   71.0  259.0                   48.0  \n",
      "2020-09-04            #  22.0   70.0  241.0                   48.0  \n",
      "2020-09-05            #  32.0   86.0  299.0                   41.0  \n",
      "2020-09-06            #  37.0   84.0  319.0                   51.0  \n",
      "\n",
      "[190 rows x 42 columns]\n"
     ]
    }
   ],
   "source": [
    "# Replace the asterisk with empty cells\n",
    "traffic = traffic.replace('*', np.nan)\n",
    "print(traffic)\n",
    "           "
   ]
  },
  {
   "cell_type": "markdown",
   "metadata": {},
   "source": [
    "## Reformat data"
   ]
  },
  {
   "cell_type": "code",
   "execution_count": 15,
   "metadata": {},
   "outputs": [
    {
     "name": "stdout",
     "output_type": "stream",
     "text": [
      "               City          Transport mode Count\n",
      "2020-03-01   London                    Cars   NaN\n",
      "2020-03-02   London                    Cars   NaN\n",
      "2020-03-03   London                    Cars   NaN\n",
      "2020-03-04   London                    Cars   NaN\n",
      "2020-03-05   London                    Cars   NaN\n",
      "...             ...                     ...   ...\n",
      "2020-09-02  Reading  Pedestrians & cyclists    47\n",
      "2020-09-03  Reading  Pedestrians & cyclists    48\n",
      "2020-09-04  Reading  Pedestrians & cyclists    48\n",
      "2020-09-05  Reading  Pedestrians & cyclists    41\n",
      "2020-09-06  Reading  Pedestrians & cyclists    51\n",
      "\n",
      "[7980 rows x 3 columns]\n",
      "           Date     City          Transport mode Count\n",
      "0    2020-03-01   London                    Cars   NaN\n",
      "1    2020-03-02   London                    Cars   NaN\n",
      "2    2020-03-03   London                    Cars   NaN\n",
      "3    2020-03-04   London                    Cars   NaN\n",
      "4    2020-03-05   London                    Cars   NaN\n",
      "...         ...      ...                     ...   ...\n",
      "7975 2020-09-02  Reading  Pedestrians & cyclists    47\n",
      "7976 2020-09-03  Reading  Pedestrians & cyclists    48\n",
      "7977 2020-09-04  Reading  Pedestrians & cyclists    48\n",
      "7978 2020-09-05  Reading  Pedestrians & cyclists    41\n",
      "7979 2020-09-06  Reading  Pedestrians & cyclists    51\n",
      "\n",
      "[7980 rows x 4 columns]\n"
     ]
    }
   ],
   "source": [
    "# Melt traffic data\n",
    "long_traffic = pd.melt(traffic, var_name=['City','Transport mode'], value_name='Count', ignore_index=False)\n",
    "print(long_traffic)\n",
    "long_traffic = pd.DataFrame(long_traffic.reset_index())\n",
    "\n",
    "# Rename date column\n",
    "long_traffic = long_traffic.rename(columns={\"index\": \"Date\"})\n",
    "print(long_traffic)"
   ]
  },
  {
   "cell_type": "code",
   "execution_count": 16,
   "metadata": {},
   "outputs": [],
   "source": [
    "# # Create new columns with Year and Month\n",
    "# long_traffic.loc[:,'Year'] = long_traffic.loc[:,'Date'].dt.year\n",
    "# long_traffic.loc[:,'Month'] = long_traffic.loc[:,'Date'].dt.month\n",
    "# print(long_traffic.head())\n",
    "\n",
    "\n",
    "# long_traffic.loc[:,'Year'] = long_traffic.loc[:,'Year'].astype(int)\n",
    "# long_traffic.loc[:, 'Month'] = long_traffic.loc[:, 'Month'].astype(int)\n",
    "# print(long_traffic.info())"
   ]
  },
  {
   "cell_type": "markdown",
   "metadata": {},
   "source": [
    "# Air quality"
   ]
  },
  {
   "cell_type": "markdown",
   "metadata": {},
   "source": [
    "## Import air quality data"
   ]
  },
  {
   "cell_type": "code",
   "execution_count": 17,
   "metadata": {},
   "outputs": [
    {
     "name": "stdout",
     "output_type": "stream",
     "text": [
      "  Site Species ReadingDateTime  Value   Units Provisional or Ratified\n",
      "0  HK6     NO2      2017-01-01   40.5  ug m-3                       R\n",
      "1  HK6     NO2      2017-02-01   42.5  ug m-3                       R\n",
      "2  HK6     NO2      2017-03-01   73.4  ug m-3                       R\n",
      "3  HK6     NO2      2017-04-01   61.6  ug m-3                       R\n",
      "4  HK6     NO2      2017-05-01   77.6  ug m-3                       R\n"
     ]
    }
   ],
   "source": [
    "# Create pattern to find text files\n",
    "pattern = \"Big Data Challenge_ Data and Challenge Statements/Data/Air Quality /*LaqnData.csv\"\n",
    "txt_files = glob(pattern)\n",
    "\n",
    "# Create empty dataframe\n",
    "frames = []\n",
    "\n",
    "# Iterate over list of text files \n",
    "for csv in txt_files:\n",
    "    # Read csv into a df\n",
    "    df = pd.read_csv(csv, sep=',', index_col=None)\n",
    "    # Append to frames\n",
    "    frames.append(df)\n",
    "\n",
    "# Concatenate frames into a single dataframe, by adding columns together   \n",
    "air_quality = pd.concat(frames, axis=0, ignore_index=True)\n",
    "\n",
    "# Change to datetime dtype\n",
    "air_quality.ReadingDateTime = air_quality.ReadingDateTime.astype('datetime64')\n",
    "print(air_quality.head())"
   ]
  },
  {
   "cell_type": "code",
   "execution_count": 18,
   "metadata": {},
   "outputs": [
    {
     "name": "stdout",
     "output_type": "stream",
     "text": [
      "Site                           0\n",
      "Species                        0\n",
      "ReadingDateTime                0\n",
      "Value                      11578\n",
      "Units                          0\n",
      "Provisional or Ratified        0\n",
      "dtype: int64\n"
     ]
    }
   ],
   "source": [
    "# Check for missing values\n",
    "print(air_quality.isna().sum())"
   ]
  },
  {
   "cell_type": "code",
   "execution_count": 19,
   "metadata": {},
   "outputs": [],
   "source": [
    "# Remove rows containing nan in a specific column\n",
    "air_quality = air_quality[pd.notnull(air_quality['Value'])]"
   ]
  },
  {
   "cell_type": "code",
   "execution_count": 20,
   "metadata": {},
   "outputs": [
    {
     "name": "stdout",
     "output_type": "stream",
     "text": [
      "<class 'pandas.core.frame.DataFrame'>\n",
      "Int64Index: 60728 entries, 0 to 72305\n",
      "Data columns (total 6 columns):\n",
      " #   Column                   Non-Null Count  Dtype         \n",
      "---  ------                   --------------  -----         \n",
      " 0   Site                     60728 non-null  object        \n",
      " 1   Species                  60728 non-null  object        \n",
      " 2   ReadingDateTime          60728 non-null  datetime64[ns]\n",
      " 3   Value                    60728 non-null  float64       \n",
      " 4   Units                    60728 non-null  object        \n",
      " 5   Provisional or Ratified  60728 non-null  object        \n",
      "dtypes: datetime64[ns](1), float64(1), object(4)\n",
      "memory usage: 3.2+ MB\n"
     ]
    }
   ],
   "source": [
    "air_quality.info()"
   ]
  },
  {
   "cell_type": "code",
   "execution_count": 21,
   "metadata": {},
   "outputs": [
    {
     "name": "stdout",
     "output_type": "stream",
     "text": [
      "  Site Species ReadingDateTime  Value   Units Provisional or Ratified  \\\n",
      "0  HK6     NO2      2017-01-01   40.5  ug m-3                       R   \n",
      "1  HK6     NO2      2017-02-01   42.5  ug m-3                       R   \n",
      "2  HK6     NO2      2017-03-01   73.4  ug m-3                       R   \n",
      "3  HK6     NO2      2017-04-01   61.6  ug m-3                       R   \n",
      "4  HK6     NO2      2017-05-01   77.6  ug m-3                       R   \n",
      "\n",
      "         Date  \n",
      "0  2017-01-01  \n",
      "1  2017-02-01  \n",
      "2  2017-03-01  \n",
      "3  2017-04-01  \n",
      "4  2017-05-01  \n"
     ]
    }
   ],
   "source": [
    "# Create a date column\n",
    "air_quality['Date'] = air_quality['ReadingDateTime'].dt.date\n",
    "print(air_quality.head())\n",
    "air_quality.to_csv(\"/Users/amanda/Documents/test.csv\")"
   ]
  },
  {
   "cell_type": "code",
   "execution_count": 22,
   "metadata": {},
   "outputs": [
    {
     "name": "stdout",
     "output_type": "stream",
     "text": [
      "         Date      Value\n",
      "0  2017-01-01  31.797561\n",
      "1  2017-01-02  47.625581\n",
      "2  2017-01-03  49.187805\n",
      "3  2017-01-04  43.479070\n",
      "4  2017-01-05  31.907500\n"
     ]
    }
   ],
   "source": [
    "## Create a mean value (output for air quality) for each date\n",
    "london_air_quality = air_quality.groupby('Date').mean('Value').reset_index()\n",
    "print(london_air_quality.head())\n",
    "london_air_quality['Date'] = london_air_quality['Date'].astype('datetime64')"
   ]
  },
  {
   "cell_type": "markdown",
   "metadata": {},
   "source": [
    "## Merge air quality with stringency data"
   ]
  },
  {
   "cell_type": "code",
   "execution_count": 23,
   "metadata": {},
   "outputs": [
    {
     "name": "stdout",
     "output_type": "stream",
     "text": [
      "<class 'pandas.core.frame.DataFrame'>\n",
      "RangeIndex: 42920 entries, 0 to 42919\n",
      "Data columns (total 5 columns):\n",
      " #   Column           Non-Null Count  Dtype         \n",
      "---  ------           --------------  -----         \n",
      " 0   CountryName      42920 non-null  object        \n",
      " 1   Date             42920 non-null  datetime64[ns]\n",
      " 2   ConfirmedCases   32494 non-null  float64       \n",
      " 3   ConfirmedDeaths  32494 non-null  float64       \n",
      " 4   StringencyIndex  41538 non-null  float64       \n",
      "dtypes: datetime64[ns](1), float64(3), object(1)\n",
      "memory usage: 1.6+ MB\n",
      "None\n",
      "          CountryName       Date  ConfirmedCases  ConfirmedDeaths  \\\n",
      "13688  United Kingdom 2020-01-01             0.0              0.0   \n",
      "13689  United Kingdom 2020-01-02             0.0              0.0   \n",
      "13690  United Kingdom 2020-01-03             0.0              0.0   \n",
      "13691  United Kingdom 2020-01-04             0.0              0.0   \n",
      "13692  United Kingdom 2020-01-05             0.0              0.0   \n",
      "...               ...        ...             ...              ...   \n",
      "13909  United Kingdom 2020-08-09        309763.0          41273.0   \n",
      "13910  United Kingdom 2020-08-10        310825.0          41278.0   \n",
      "13911  United Kingdom 2020-08-11        311641.0          41296.0   \n",
      "13912  United Kingdom 2020-08-12        312789.0          41309.0   \n",
      "13913  United Kingdom 2020-08-13        313798.0          41329.0   \n",
      "\n",
      "       StringencyIndex  \n",
      "13688             0.00  \n",
      "13689             0.00  \n",
      "13690             0.00  \n",
      "13691             0.00  \n",
      "13692             0.00  \n",
      "...                ...  \n",
      "13909            65.28  \n",
      "13910            65.28  \n",
      "13911            65.28  \n",
      "13912            65.28  \n",
      "13913            65.28  \n",
      "\n",
      "[226 rows x 5 columns]\n"
     ]
    }
   ],
   "source": [
    "print(stringency.info())\n",
    "\n",
    "# Limit stringency to UK data\n",
    "stringency_UK = stringency.where(stringency['CountryName'] == 'United Kingdom').dropna()\n",
    "print(stringency_UK)"
   ]
  },
  {
   "cell_type": "code",
   "execution_count": 24,
   "metadata": {},
   "outputs": [
    {
     "name": "stdout",
     "output_type": "stream",
     "text": [
      "        Date  Nitrogen Dioxide_ugm-3_LDN     CountryName  ConfirmedCases  \\\n",
      "0 2020-01-01                   44.989583  United Kingdom             0.0   \n",
      "1 2020-01-02                   20.117021  United Kingdom             0.0   \n",
      "2 2020-01-03                   17.861224  United Kingdom             0.0   \n",
      "3 2020-01-04                   34.404167  United Kingdom             0.0   \n",
      "4 2020-01-05                   16.930612  United Kingdom             0.0   \n",
      "\n",
      "   ConfirmedDeaths  StringencyIndex  \n",
      "0              0.0              0.0  \n",
      "1              0.0              0.0  \n",
      "2              0.0              0.0  \n",
      "3              0.0              0.0  \n",
      "4              0.0              0.0  \n"
     ]
    }
   ],
   "source": [
    "# Merge stringency with air_quality\n",
    "stringency_airquality = london_air_quality.merge(stringency_UK, on='Date', how='inner')\n",
    "stringency_airquality = stringency_airquality.rename(columns = {'Value':'Nitrogen Dioxide_ugm-3_LDN'})\n",
    "print(stringency_airquality.head())\n",
    "\n",
    "# Write to csv\n",
    "stringency_airquality.to_csv(\"Big Data Challenge_ Data and Challenge Statements/Data/Data for analysis/stringency_LDN_airquality.csv\") "
   ]
  },
  {
   "cell_type": "markdown",
   "metadata": {},
   "source": [
    "## Merge stringency, air quality and traffic data in London"
   ]
  },
  {
   "cell_type": "code",
   "execution_count": 25,
   "metadata": {},
   "outputs": [
    {
     "name": "stdout",
     "output_type": "stream",
     "text": [
      "           Date    City          Transport mode   Count\n",
      "10   2020-03-11  London                    Cars  291928\n",
      "11   2020-03-12  London                    Cars  287619\n",
      "12   2020-03-13  London                    Cars  284520\n",
      "13   2020-03-14  London                    Cars  311553\n",
      "14   2020-03-15  London                    Cars  314612\n",
      "...         ...     ...                     ...     ...\n",
      "1135 2020-09-02  London  Pedestrians & cyclists   41057\n",
      "1136 2020-09-03  London  Pedestrians & cyclists   45666\n",
      "1137 2020-09-04  London  Pedestrians & cyclists   46254\n",
      "1138 2020-09-05  London  Pedestrians & cyclists   42122\n",
      "1139 2020-09-06  London  Pedestrians & cyclists   41273\n",
      "\n",
      "[1080 rows x 4 columns]\n"
     ]
    }
   ],
   "source": [
    "# Limit traffic to London data\n",
    "long_traffic_LDN = long_traffic.where(long_traffic['City'] == 'London').dropna()\n",
    "\n",
    "\n",
    "# Drop rows that do not have count data\n",
    "long_traffic_LDN = long_traffic_LDN[pd.notnull(long_traffic_LDN['Count'])]\n",
    "print(long_traffic_LDN)"
   ]
  },
  {
   "cell_type": "code",
   "execution_count": 26,
   "metadata": {},
   "outputs": [
    {
     "name": "stdout",
     "output_type": "stream",
     "text": [
      "<class 'pandas.core.frame.DataFrame'>\n",
      "Int64Index: 1080 entries, 10 to 1139\n",
      "Data columns (total 4 columns):\n",
      " #   Column          Non-Null Count  Dtype         \n",
      "---  ------          --------------  -----         \n",
      " 0   Date            1080 non-null   datetime64[ns]\n",
      " 1   City            1080 non-null   object        \n",
      " 2   Transport mode  1080 non-null   object        \n",
      " 3   Count           1080 non-null   int64         \n",
      "dtypes: datetime64[ns](1), int64(1), object(2)\n",
      "memory usage: 42.2+ KB\n",
      "None\n"
     ]
    }
   ],
   "source": [
    "long_traffic_LDN.Count = long_traffic_LDN.Count.astype(int)\n",
    "# long_traffic_LDN.Year = long_traffic_LDN.Year.astype(int)\n",
    "# long_traffic_LDN.Month = long_traffic_LDN.Month.astype(int)\n",
    "print(long_traffic_LDN.info())"
   ]
  },
  {
   "cell_type": "code",
   "execution_count": 27,
   "metadata": {},
   "outputs": [],
   "source": [
    "# long_traffic_LDN.to_csv(\"/Users/amanda/Documents/test.csv\")"
   ]
  },
  {
   "cell_type": "code",
   "execution_count": 28,
   "metadata": {},
   "outputs": [
    {
     "name": "stdout",
     "output_type": "stream",
     "text": [
      "           Date    City          Transport mode   Count\n",
      "10   2020-03-11  London                    Cars  291928\n",
      "11   2020-03-12  London                    Cars  287619\n",
      "12   2020-03-13  London                    Cars  284520\n",
      "13   2020-03-14  London                    Cars  311553\n",
      "14   2020-03-15  London                    Cars  314612\n",
      "...         ...     ...                     ...     ...\n",
      "1135 2020-09-02  London  Pedestrians & cyclists   41057\n",
      "1136 2020-09-03  London  Pedestrians & cyclists   45666\n",
      "1137 2020-09-04  London  Pedestrians & cyclists   46254\n",
      "1138 2020-09-05  London  Pedestrians & cyclists   42122\n",
      "1139 2020-09-06  London  Pedestrians & cyclists   41273\n",
      "\n",
      "[1080 rows x 4 columns]\n"
     ]
    }
   ],
   "source": [
    "print(long_traffic_LDN)"
   ]
  },
  {
   "cell_type": "code",
   "execution_count": 29,
   "metadata": {},
   "outputs": [
    {
     "name": "stdout",
     "output_type": "stream",
     "text": [
      "        Date    City Transport mode   Count  Nitrogen Dioxide_ugm-3_LDN  \\\n",
      "0 2020-03-13  London           Cars  284520                   31.193478   \n",
      "1 2020-03-13  London     Motorbikes     493                   31.193478   \n",
      "2 2020-03-13  London          Buses   18856                   31.193478   \n",
      "3 2020-03-13  London         Trucks   18778                   31.193478   \n",
      "4 2020-03-13  London           Vans   39596                   31.193478   \n",
      "\n",
      "      CountryName  ConfirmedCases  ConfirmedDeaths  StringencyIndex  \n",
      "0  United Kingdom          1282.0              9.0            12.96  \n",
      "1  United Kingdom          1282.0              9.0            12.96  \n",
      "2  United Kingdom          1282.0              9.0            12.96  \n",
      "3  United Kingdom          1282.0              9.0            12.96  \n",
      "4  United Kingdom          1282.0              9.0            12.96  \n"
     ]
    }
   ],
   "source": [
    "## Merge data\n",
    "traffic_stringency_airquality = long_traffic_LDN.merge(stringency_airquality, on='Date', how='inner')\n",
    "print(traffic_stringency_airquality.head())"
   ]
  },
  {
   "cell_type": "code",
   "execution_count": 32,
   "metadata": {},
   "outputs": [
    {
     "data": {
      "text/plain": [
       "<AxesSubplot:xlabel='Date', ylabel='Count'>"
      ]
     },
     "execution_count": 32,
     "metadata": {},
     "output_type": "execute_result"
    },
    {
     "data": {
      "image/png": "[encoded data removed]",
      "text/plain": [
       "<Figure size 432x288 with 1 Axes>"
      ]
     },
     "metadata": {
      "needs_background": "light"
     },
     "output_type": "display_data"
    }
   ],
   "source": [
    "sns.lineplot(data=traffic_stringency_airquality, x=\"Date\", y=\"Count\", hue='Transport mode')\n"
   ]
  },
  {
   "cell_type": "code",
   "execution_count": null,
   "metadata": {},
   "outputs": [],
   "source": []
  }
 ],
 "metadata": {
  "kernelspec": {
   "display_name": "Python 3",
   "language": "python",
   "name": "python3"
  },
  "language_info": {
   "codemirror_mode": {
    "name": "ipython",
    "version": 3
   },
   "file_extension": ".py",
   "mimetype": "text/x-python",
   "name": "python",
   "nbconvert_exporter": "python",
   "pygments_lexer": "ipython3",
   "version": "3.7.6"
  }
 },
 "nbformat": 4,
 "nbformat_minor": 4
}
