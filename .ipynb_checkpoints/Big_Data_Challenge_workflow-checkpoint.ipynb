{
 "cells": [
  {
   "cell_type": "markdown",
   "metadata": {},
   "source": [
    "## The Big Data Challenge"
   ]
  },
  {
   "cell_type": "markdown",
   "metadata": {},
   "source": [
    "# Import data"
   ]
  },
  {
   "cell_type": "code",
   "execution_count": 3,
   "metadata": {},
   "outputs": [],
   "source": [
    "import numpy as np\n",
    "import pandas as pd\n",
    "import seaborn as sns\n"
   ]
  },
  {
   "cell_type": "code",
   "execution_count": 5,
   "metadata": {},
   "outputs": [
    {
     "name": "stdout",
     "output_type": "stream",
     "text": [
      "  CountryName CountryCode       Date  C1_School closing  C1_Flag  \\\n",
      "0       Aruba         ABW 2020-01-01                0.0      NaN   \n",
      "1       Aruba         ABW 2020-01-02                0.0      NaN   \n",
      "2       Aruba         ABW 2020-01-03                0.0      NaN   \n",
      "3       Aruba         ABW 2020-01-04                0.0      NaN   \n",
      "4       Aruba         ABW 2020-01-05                0.0      NaN   \n",
      "\n",
      "   C2_Workplace closing  C2_Flag  C3_Cancel public events  C3_Flag  \\\n",
      "0                   0.0      NaN                      0.0      NaN   \n",
      "1                   0.0      NaN                      0.0      NaN   \n",
      "2                   0.0      NaN                      0.0      NaN   \n",
      "3                   0.0      NaN                      0.0      NaN   \n",
      "4                   0.0      NaN                      0.0      NaN   \n",
      "\n",
      "   C4_Restrictions on gatherings  ...  StringencyIndex  \\\n",
      "0                            0.0  ...              0.0   \n",
      "1                            0.0  ...              0.0   \n",
      "2                            0.0  ...              0.0   \n",
      "3                            0.0  ...              0.0   \n",
      "4                            0.0  ...              0.0   \n",
      "\n",
      "   StringencyIndexForDisplay  StringencyLegacyIndex  \\\n",
      "0                        0.0                    0.0   \n",
      "1                        0.0                    0.0   \n",
      "2                        0.0                    0.0   \n",
      "3                        0.0                    0.0   \n",
      "4                        0.0                    0.0   \n",
      "\n",
      "   StringencyLegacyIndexForDisplay  GovernmentResponseIndex  \\\n",
      "0                              0.0                      0.0   \n",
      "1                              0.0                      0.0   \n",
      "2                              0.0                      0.0   \n",
      "3                              0.0                      0.0   \n",
      "4                              0.0                      0.0   \n",
      "\n",
      "   GovernmentResponseIndexForDisplay  ContainmentHealthIndex  \\\n",
      "0                                0.0                     0.0   \n",
      "1                                0.0                     0.0   \n",
      "2                                0.0                     0.0   \n",
      "3                                0.0                     0.0   \n",
      "4                                0.0                     0.0   \n",
      "\n",
      "   ContainmentHealthIndexForDisplay  EconomicSupportIndex  \\\n",
      "0                               0.0                   0.0   \n",
      "1                               0.0                   0.0   \n",
      "2                               0.0                   0.0   \n",
      "3                               0.0                   0.0   \n",
      "4                               0.0                   0.0   \n",
      "\n",
      "   EconomicSupportIndexForDisplay  \n",
      "0                             0.0  \n",
      "1                             0.0  \n",
      "2                             0.0  \n",
      "3                             0.0  \n",
      "4                             0.0  \n",
      "\n",
      "[5 rows x 42 columns]\n"
     ]
    }
   ],
   "source": [
    "# Read in stringency data\n",
    "file = (\n",
    "    \"/Users/amanda/Desktop/OneDrive - King's College London/Code First/Data_challenge/Big Data Challenge_ Data and Challenge Statements/Data/Stringency data/OxCGRT_latest_hackathon.csv\"\n",
    ")\n",
    "stringency = pd.read_csv(file, parse_dates=['Date'])\n",
    "print(stringency.head())"
   ]
  },
  {
   "cell_type": "code",
   "execution_count": 12,
   "metadata": {},
   "outputs": [
    {
     "name": "stdout",
     "output_type": "stream",
     "text": [
      "        Daily counts                         London                     \\\n",
      "  Unnamed: 0_level_1                           Cars         Motorbikes   \n",
      "  Unnamed: 0_level_2 * London series start 11/03/20 Unnamed: 2_level_2   \n",
      "0                NaT                            NaN                NaN   \n",
      "1         2020-03-01                              *                  *   \n",
      "2         2020-03-02                              *                  *   \n",
      "3         2020-03-03                              *                  *   \n",
      "4         2020-03-04                              *                  *   \n",
      "\n",
      "                                                            \\\n",
      "               Buses             Trucks               Vans   \n",
      "  Unnamed: 3_level_2 Unnamed: 4_level_2 Unnamed: 5_level_2   \n",
      "0                NaN                NaN                NaN   \n",
      "1                  *                  *                  *   \n",
      "2                  *                  *                  *   \n",
      "3                  *                  *                  *   \n",
      "4                  *                  *                  *   \n",
      "\n",
      "                                 North East                     \\\n",
      "  Pedestrians & cyclists               Cars         Motorbikes   \n",
      "      Unnamed: 6_level_2 Unnamed: 7_level_2 Unnamed: 8_level_2   \n",
      "0                    NaN                NaN                NaN   \n",
      "1                      *            55378.0               18.0   \n",
      "2                      *            54773.0               24.0   \n",
      "3                      *            56045.0               29.0   \n",
      "4                      *            53209.0               20.0   \n",
      "\n",
      "                      ...  Greater Manchester                      \\\n",
      "               Buses  ...               Buses              Trucks   \n",
      "  Unnamed: 9_level_2  ... Unnamed: 33_level_2 Unnamed: 34_level_2   \n",
      "0                NaN  ...                 NaN                 NaN   \n",
      "1             2249.0  ...                   *                   *   \n",
      "2             2279.0  ...                   *                   *   \n",
      "3             2283.0  ...                   *                   *   \n",
      "4             2262.0  ...                   *                   *   \n",
      "\n",
      "                                                                     Reading  \\\n",
      "                 Vans Pedestrians & cyclists                            Cars   \n",
      "  Unnamed: 35_level_2    Unnamed: 36_level_2 * Reading series start 07/05/20   \n",
      "0                 NaN                    NaN                             NaN   \n",
      "1                   *                      *                               *   \n",
      "2                   *                      *                               *   \n",
      "3                   *                      *                               *   \n",
      "4                   *                      *                               *   \n",
      "\n",
      "                                                                        \\\n",
      "                    Motorbikes               Buses              Trucks   \n",
      "           Unnamed: 38_level_2 Unnamed: 39_level_2 Unnamed: 40_level_2   \n",
      "0  # suppressed for disclosure                 NaN                 NaN   \n",
      "1                            *                   *                   *   \n",
      "2                            *                   *                   *   \n",
      "3                            *                   *                   *   \n",
      "4                            *                   *                   *   \n",
      "\n",
      "                                              \n",
      "                 Vans Pedestrians & cyclists  \n",
      "  Unnamed: 41_level_2    Unnamed: 42_level_2  \n",
      "0                 NaN                    NaN  \n",
      "1                   *                      *  \n",
      "2                   *                      *  \n",
      "3                   *                      *  \n",
      "4                   *                      *  \n",
      "\n",
      "[5 rows x 43 columns]\n"
     ]
    }
   ],
   "source": [
    "# Read in traffic data from ONS\n",
    "file2 = (\n",
    "    \"/Users/amanda/Desktop/OneDrive - King's College London/Code First/Data_challenge/Traffic_ONS/10septembertrafficcamerasdataset.xlsx\"\n",
    ")\n",
    "traffic = pd.read_excel(file2, sheet_name='Seasonally adjusted', header=[0, 1, 2])\n",
    "print(traffic.head())"
   ]
  },
  {
   "cell_type": "code",
   "execution_count": null,
   "metadata": {},
   "outputs": [],
   "source": []
  }
 ],
 "metadata": {
  "kernelspec": {
   "display_name": "Python 3",
   "language": "python",
   "name": "python3"
  }
 },
 "nbformat": 4,
 "nbformat_minor": 4
}
