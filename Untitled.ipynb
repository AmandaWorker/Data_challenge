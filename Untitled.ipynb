{
 "cells": [
  {
   "cell_type": "markdown",
   "metadata": {},
   "source": [
    "# Descriptives"
   ]
  },
  {
   "cell_type": "code",
   "execution_count": 1,
   "metadata": {},
   "outputs": [],
   "source": [
    "import numpy as np\n",
    "import pandas as pd"
   ]
  },
  {
   "cell_type": "code",
   "execution_count": 17,
   "metadata": {},
   "outputs": [
    {
     "name": "stdout",
     "output_type": "stream",
     "text": [
      "        Date Transport mode   Count  Nitrogen Dioxide_ugm-3_LDN  \\\n",
      "0 2020-03-13           Cars  284520                   31.193478   \n",
      "1 2020-03-13     Motorbikes     493                   31.193478   \n",
      "2 2020-03-13          Buses   18856                   31.193478   \n",
      "3 2020-03-13         Trucks   18778                   31.193478   \n",
      "4 2020-03-13           Vans   39596                   31.193478   \n",
      "\n",
      "   StringencyIndexForDisplay  \n",
      "0                      12.96  \n",
      "1                      12.96  \n",
      "2                      12.96  \n",
      "3                      12.96  \n",
      "4                      12.96  \n",
      "<class 'pandas.core.frame.DataFrame'>\n",
      "RangeIndex: 804 entries, 0 to 803\n",
      "Data columns (total 5 columns):\n",
      " #   Column                      Non-Null Count  Dtype         \n",
      "---  ------                      --------------  -----         \n",
      " 0   Date                        804 non-null    datetime64[ns]\n",
      " 1   Transport mode              804 non-null    object        \n",
      " 2   Count                       804 non-null    int64         \n",
      " 3   Nitrogen Dioxide_ugm-3_LDN  804 non-null    float64       \n",
      " 4   StringencyIndexForDisplay   804 non-null    float64       \n",
      "dtypes: datetime64[ns](1), float64(2), int64(1), object(1)\n",
      "memory usage: 31.5+ KB\n",
      "None\n"
     ]
    }
   ],
   "source": [
    "# Read in the air quality, traffic and stringency data (nitrogen dioxide)\n",
    "file = (\"Big Data Challenge_ Data and Challenge Statements/Data/Data for analysis/traffic_stringency_airquality.csv\")\n",
    "date = ['Date']\n",
    "london_data = (\n",
    "    pd\n",
    "    .read_csv(file, \n",
    "              usecols = ['Date', 'Transport mode', 'Count', 'Nitrogen Dioxide_ugm-3_LDN', 'StringencyIndexForDisplay'],\n",
    "              parse_dates=date)\n",
    ")\n",
    "print(london_data.head())\n",
    "print(london_data.info())\n"
   ]
  },
  {
   "cell_type": "code",
   "execution_count": 42,
   "metadata": {},
   "outputs": [
    {
     "name": "stdout",
     "output_type": "stream",
     "text": [
      "The average nitrogen dioxide measured in London by year is ...\n"
     ]
    }
   ],
   "source": [
    "# Average nitrogen dioxide in 2020 compared to previous years\n",
    "london_air_quality.loc[:,'Year'] = london_air_quality.loc[:,'Date'].dt.year\n",
    "\n",
    "avg_annual_NO2 = london_air_quality.groupby('Year')['Nitrogen Dioxide_ugm-3_LDN'].mean()\n",
    "\n",
    "pcnt_change_annual_NO2 = avg_annual_NO2.pct_change()\n",
    "\n",
    "print(\"The average nitrogen dioxide measured in London by year is ...\" %(avg_annual_NO2.iloc[0]))\n",
    "# print(avg_annual_NO2)\n",
    "\n",
    "\n",
    "# print(\"And the percent change in annual nitrogen dioxide measured is ...\")\n",
    "# print(pcnt_change_annual_NO2)\n",
    "\n",
    "\n",
    "# print(\"Between 2017 and 2018 average annual nitrogen dioxide in London changed by %4.2f\" %(pcnt_change_annual_NO2.iloc[1]*100) + \" percent\")\n",
    "# print(\"Between 2018 and 2019 average annual nitrogen dioxide in London changed by %4.2f\" %(pcnt_change_annual_NO2.iloc[2]*100) + \" percent\")\n",
    "# print(\"Between 2019 and 2020 average annual nitrogen dioxide in London changed by %4.2f\" %(pcnt_change_annual_NO2.iloc[3]*100) + \" percent\")\n"
   ]
  },
  {
   "cell_type": "code",
   "execution_count": null,
   "metadata": {},
   "outputs": [],
   "source": [
    "# Compute the daily change in air quality\n",
    "daily_diff_2020 = london_air_quality_2020.diff()\n",
    "print(daily_diff_2020.head())\n",
    "x = daily_diff_2020['Nitrogen Dioxide_ugm-3_LDN'].mean()\n",
    "print(\"The average daily change in air quality for 2020 is %4.2f\" %(x))\n"
   ]
  },
  {
   "cell_type": "code",
   "execution_count": null,
   "metadata": {},
   "outputs": [],
   "source": [
    "# Compute the daily change in air quality\n",
    "daily_diff_2019 = london_air_quality_2019.diff()\n",
    "print(daily_diff_2019.head())\n",
    "\n",
    "\n",
    "x2 = daily_diff_2019['Nitrogen Dioxide_ugm-3_LDN'].mean()\n",
    "print(\"The average daily change in air quality for 2019 is %4.2f\" %(x2))\n",
    "\n"
   ]
  }
 ],
 "metadata": {
  "kernelspec": {
   "display_name": "Python 3",
   "language": "python",
   "name": "python3"
  },
  "language_info": {
   "codemirror_mode": {
    "name": "ipython",
    "version": 3
   },
   "file_extension": ".py",
   "mimetype": "text/x-python",
   "name": "python",
   "nbconvert_exporter": "python",
   "pygments_lexer": "ipython3",
   "version": "3.7.6"
  }
 },
 "nbformat": 4,
 "nbformat_minor": 4
}
