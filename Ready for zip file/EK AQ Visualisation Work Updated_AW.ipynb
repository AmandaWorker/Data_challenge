{
 "cells": [
  {
   "cell_type": "markdown",
   "metadata": {},
   "source": [
    "## Visualising air quality data"
   ]
  },
  {
   "cell_type": "code",
   "execution_count": 1,
   "metadata": {},
   "outputs": [],
   "source": [
    "import numpy as np\n",
    "import pandas as pd\n",
    "import seaborn as sns\n",
    "import datetime as dt\n",
    "import requests\n",
    "import matplotlib\n",
    "import matplotlib.pyplot as plt\n",
    "import ipywidgets as widgets\n",
    "from ipywidgets import IntRangeSlider, SelectMultiple\n",
    "from IPython.display import display\n",
    "import ssl\n",
    "\n",
    "%matplotlib inline"
   ]
  },
  {
   "cell_type": "code",
   "execution_count": 2,
   "metadata": {
    "scrolled": true
   },
   "outputs": [
    {
     "data": {
      "text/html": [
       "<div>\n",
       "<style scoped>\n",
       "    .dataframe tbody tr th:only-of-type {\n",
       "        vertical-align: middle;\n",
       "    }\n",
       "\n",
       "    .dataframe tbody tr th {\n",
       "        vertical-align: top;\n",
       "    }\n",
       "\n",
       "    .dataframe thead th {\n",
       "        text-align: right;\n",
       "    }\n",
       "</style>\n",
       "<table border=\"1\" class=\"dataframe\">\n",
       "  <thead>\n",
       "    <tr style=\"text-align: right;\">\n",
       "      <th></th>\n",
       "      <th>Unnamed: 0</th>\n",
       "      <th>Date</th>\n",
       "      <th>Nitrogen Dioxide 2020</th>\n",
       "      <th>Nitrogen Dioxide 2019</th>\n",
       "      <th>CountryName</th>\n",
       "      <th>ConfirmedCases</th>\n",
       "      <th>ConfirmedDeaths</th>\n",
       "      <th>StringencyIndex</th>\n",
       "      <th>StringencyIndexForDisplay</th>\n",
       "    </tr>\n",
       "  </thead>\n",
       "  <tbody>\n",
       "    <tr>\n",
       "      <th>0</th>\n",
       "      <td>0</td>\n",
       "      <td>Jan 1</td>\n",
       "      <td>44.989583</td>\n",
       "      <td>27.846809</td>\n",
       "      <td>United Kingdom</td>\n",
       "      <td>0.0</td>\n",
       "      <td>0.0</td>\n",
       "      <td>0.00</td>\n",
       "      <td>0.00</td>\n",
       "    </tr>\n",
       "    <tr>\n",
       "      <th>1</th>\n",
       "      <td>1</td>\n",
       "      <td>Jan 2</td>\n",
       "      <td>20.117021</td>\n",
       "      <td>41.287234</td>\n",
       "      <td>United Kingdom</td>\n",
       "      <td>0.0</td>\n",
       "      <td>0.0</td>\n",
       "      <td>0.00</td>\n",
       "      <td>0.00</td>\n",
       "    </tr>\n",
       "    <tr>\n",
       "      <th>2</th>\n",
       "      <td>2</td>\n",
       "      <td>Jan 3</td>\n",
       "      <td>17.861224</td>\n",
       "      <td>50.687500</td>\n",
       "      <td>United Kingdom</td>\n",
       "      <td>0.0</td>\n",
       "      <td>0.0</td>\n",
       "      <td>0.00</td>\n",
       "      <td>0.00</td>\n",
       "    </tr>\n",
       "    <tr>\n",
       "      <th>3</th>\n",
       "      <td>3</td>\n",
       "      <td>Jan 4</td>\n",
       "      <td>34.404167</td>\n",
       "      <td>42.110638</td>\n",
       "      <td>United Kingdom</td>\n",
       "      <td>0.0</td>\n",
       "      <td>0.0</td>\n",
       "      <td>0.00</td>\n",
       "      <td>0.00</td>\n",
       "    </tr>\n",
       "    <tr>\n",
       "      <th>4</th>\n",
       "      <td>4</td>\n",
       "      <td>Jan 5</td>\n",
       "      <td>16.930612</td>\n",
       "      <td>49.836957</td>\n",
       "      <td>United Kingdom</td>\n",
       "      <td>0.0</td>\n",
       "      <td>0.0</td>\n",
       "      <td>0.00</td>\n",
       "      <td>0.00</td>\n",
       "    </tr>\n",
       "    <tr>\n",
       "      <th>...</th>\n",
       "      <td>...</td>\n",
       "      <td>...</td>\n",
       "      <td>...</td>\n",
       "      <td>...</td>\n",
       "      <td>...</td>\n",
       "      <td>...</td>\n",
       "      <td>...</td>\n",
       "      <td>...</td>\n",
       "      <td>...</td>\n",
       "    </tr>\n",
       "    <tr>\n",
       "      <th>189</th>\n",
       "      <td>189</td>\n",
       "      <td>Aug 5</td>\n",
       "      <td>32.460784</td>\n",
       "      <td>25.262000</td>\n",
       "      <td>United Kingdom</td>\n",
       "      <td>306293.0</td>\n",
       "      <td>41226.0</td>\n",
       "      <td>65.28</td>\n",
       "      <td>65.28</td>\n",
       "    </tr>\n",
       "    <tr>\n",
       "      <th>190</th>\n",
       "      <td>190</td>\n",
       "      <td>Aug 6</td>\n",
       "      <td>17.457447</td>\n",
       "      <td>35.690000</td>\n",
       "      <td>United Kingdom</td>\n",
       "      <td>307184.0</td>\n",
       "      <td>41240.0</td>\n",
       "      <td>65.28</td>\n",
       "      <td>65.28</td>\n",
       "    </tr>\n",
       "    <tr>\n",
       "      <th>191</th>\n",
       "      <td>191</td>\n",
       "      <td>Aug 7</td>\n",
       "      <td>18.083673</td>\n",
       "      <td>43.081633</td>\n",
       "      <td>United Kingdom</td>\n",
       "      <td>308134.0</td>\n",
       "      <td>41258.0</td>\n",
       "      <td>65.28</td>\n",
       "      <td>65.28</td>\n",
       "    </tr>\n",
       "    <tr>\n",
       "      <th>192</th>\n",
       "      <td>192</td>\n",
       "      <td>Aug 8</td>\n",
       "      <td>40.606667</td>\n",
       "      <td>31.102083</td>\n",
       "      <td>United Kingdom</td>\n",
       "      <td>309005.0</td>\n",
       "      <td>41270.0</td>\n",
       "      <td>65.28</td>\n",
       "      <td>65.28</td>\n",
       "    </tr>\n",
       "    <tr>\n",
       "      <th>193</th>\n",
       "      <td>193</td>\n",
       "      <td>Aug 13</td>\n",
       "      <td>27.543478</td>\n",
       "      <td>39.285106</td>\n",
       "      <td>United Kingdom</td>\n",
       "      <td>313798.0</td>\n",
       "      <td>41329.0</td>\n",
       "      <td>65.28</td>\n",
       "      <td>65.28</td>\n",
       "    </tr>\n",
       "  </tbody>\n",
       "</table>\n",
       "<p>194 rows × 9 columns</p>\n",
       "</div>"
      ],
      "text/plain": [
       "     Unnamed: 0    Date  Nitrogen Dioxide 2020  Nitrogen Dioxide 2019  \\\n",
       "0             0   Jan 1              44.989583              27.846809   \n",
       "1             1   Jan 2              20.117021              41.287234   \n",
       "2             2   Jan 3              17.861224              50.687500   \n",
       "3             3   Jan 4              34.404167              42.110638   \n",
       "4             4   Jan 5              16.930612              49.836957   \n",
       "..          ...     ...                    ...                    ...   \n",
       "189         189   Aug 5              32.460784              25.262000   \n",
       "190         190   Aug 6              17.457447              35.690000   \n",
       "191         191   Aug 7              18.083673              43.081633   \n",
       "192         192   Aug 8              40.606667              31.102083   \n",
       "193         193  Aug 13              27.543478              39.285106   \n",
       "\n",
       "        CountryName  ConfirmedCases  ConfirmedDeaths  StringencyIndex  \\\n",
       "0    United Kingdom             0.0              0.0             0.00   \n",
       "1    United Kingdom             0.0              0.0             0.00   \n",
       "2    United Kingdom             0.0              0.0             0.00   \n",
       "3    United Kingdom             0.0              0.0             0.00   \n",
       "4    United Kingdom             0.0              0.0             0.00   \n",
       "..              ...             ...              ...              ...   \n",
       "189  United Kingdom        306293.0          41226.0            65.28   \n",
       "190  United Kingdom        307184.0          41240.0            65.28   \n",
       "191  United Kingdom        308134.0          41258.0            65.28   \n",
       "192  United Kingdom        309005.0          41270.0            65.28   \n",
       "193  United Kingdom        313798.0          41329.0            65.28   \n",
       "\n",
       "     StringencyIndexForDisplay  \n",
       "0                         0.00  \n",
       "1                         0.00  \n",
       "2                         0.00  \n",
       "3                         0.00  \n",
       "4                         0.00  \n",
       "..                         ...  \n",
       "189                      65.28  \n",
       "190                      65.28  \n",
       "191                      65.28  \n",
       "192                      65.28  \n",
       "193                      65.28  \n",
       "\n",
       "[194 rows x 9 columns]"
      ]
     },
     "execution_count": 2,
     "metadata": {},
     "output_type": "execute_result"
    }
   ],
   "source": [
    "data = pd.read_csv(\"Cleaned_data/LDN_AQ_2020_2019.csv\")\n",
    "data"
   ]
  },
  {
   "cell_type": "code",
   "execution_count": 3,
   "metadata": {
    "scrolled": true
   },
   "outputs": [
    {
     "name": "stderr",
     "output_type": "stream",
     "text": [
      "/Users/amanda/opt/anaconda3/lib/python3.7/site-packages/pandas/plotting/_matplotlib/core.py:1235: UserWarning: FixedFormatter should only be used together with FixedLocator\n",
      "  ax.set_xticklabels(xticklabels)\n"
     ]
    },
    {
     "data": {
      "text/plain": [
       "<AxesSubplot:xlabel='Date'>"
      ]
     },
     "execution_count": 3,
     "metadata": {},
     "output_type": "execute_result"
    },
    {
     "data": {
      "image/png": "[encoded data removed]",
      "text/plain": [
       "<Figure size 432x288 with 1 Axes>"
      ]
     },
     "metadata": {
      "needs_background": "light"
     },
     "output_type": "display_data"
    }
   ],
   "source": [
    "data.plot(y=['Nitrogen Dioxide 2020', 'Nitrogen Dioxide 2019'], x='Date')"
   ]
  },
  {
   "cell_type": "code",
   "execution_count": null,
   "metadata": {},
   "outputs": [],
   "source": [
    "# Plot nitrogen dioxide over time, with key dates overlaid\n",
    "sns.set_style(\"white\")\n",
    "\n",
    "plot = sns.relplot(\n",
    "        data=data, \n",
    "        y='Nitrogen Dioxide 2020', \n",
    "        x='Date', \n",
    "        height=7, \n",
    "        aspect=3, \n",
    "        kind='line'\n",
    ")\n",
    "plt.xticks(rotation=45, horizontalalignment='right')\n",
    "plt.xticks(np.arange(0, 210, step=7))\n",
    "\n",
    "plt.axvline(x=61, ls='--', color='k', linewidth=3) ##WFH Guidance 16th March\n",
    "plt.axvline(x=68, ls='--', color='g', linewidth=3)## Lockdown 23 March\n",
    "plt.axvline(x=110, ls='--', color='y', linewidth=3) ## Early May Bank holiday (8th)\n",
    "plt.axvline(x=130, ls='--', color='r', linewidth=3) ## groups of 6 in parks (June 1st)\n",
    "plt.axvline(x=158, ls='--', color='m', linewidth=3) ## pubs and restaurants (july 4th)\n",
    "\n",
    "sns.set(font_scale = 2)\n",
    "\n",
    "plot.savefig(\"Cleaned_data/Figures/Air_quality_key_dates.png\", dpi=300)"
   ]
  },
  {
   "cell_type": "markdown",
   "metadata": {},
   "source": [
    "## Read in stringency, air quality and traffic data"
   ]
  },
  {
   "cell_type": "code",
   "execution_count": null,
   "metadata": {},
   "outputs": [],
   "source": [
    "file2 = (\"Cleaned_data/traffic_stringency_airquality.csv\")\n",
    "date = ['Date']\n",
    "london_air_traffic_stringency = (\n",
    "    pd\n",
    "    .read_csv(file2,\n",
    "              parse_dates=date)\n",
    ")\n",
    "\n",
    "print(london_air_traffic_stringency.head())"
   ]
  },
  {
   "cell_type": "code",
   "execution_count": null,
   "metadata": {},
   "outputs": [],
   "source": [
    "sns.set_theme(style=\"darkgrid\")\n",
    "ssl._create_default_https_context = ssl._create_unverified_context"
   ]
  },
  {
   "cell_type": "code",
   "execution_count": null,
   "metadata": {},
   "outputs": [],
   "source": [
    "london_air_traffic_stringency.info()"
   ]
  },
  {
   "cell_type": "code",
   "execution_count": null,
   "metadata": {},
   "outputs": [],
   "source": [
    "sns.relplot(\n",
    "    data=london_air_traffic_stringency[london_air_traffic_stringency['Transport mode'] == 'Cars'], \n",
    "    x='Date', \n",
    "    y='Count', \n",
    "    kind='line',\n",
    "    height=7,\n",
    "    aspect=3\n",
    ")"
   ]
  },
  {
   "cell_type": "code",
   "execution_count": null,
   "metadata": {
    "scrolled": false
   },
   "outputs": [],
   "source": [
    "sns.relplot(\n",
    "    data=london_air_traffic_stringency[london_air_traffic_stringency['Transport mode'] == 'Vans'], \n",
    "    x='Date', \n",
    "    y='Count', \n",
    "    kind='line',\n",
    "    height=7,\n",
    "    aspect=3\n",
    ")"
   ]
  },
  {
   "cell_type": "code",
   "execution_count": null,
   "metadata": {},
   "outputs": [],
   "source": [
    "sns.relplot(\n",
    "    data=london_air_traffic_stringency[london_air_traffic_stringency['Transport mode'] == 'Motorbikes'], \n",
    "    x='Date', \n",
    "    y='Count', \n",
    "    kind='line',\n",
    "    height=7,\n",
    "    aspect=3\n",
    ")"
   ]
  },
  {
   "cell_type": "code",
   "execution_count": null,
   "metadata": {},
   "outputs": [],
   "source": [
    "sns.relplot(\n",
    "    data=london_air_traffic_stringency[london_air_traffic_stringency['Transport mode'] == 'Buses'], \n",
    "    x='Date', \n",
    "    y='Count', \n",
    "    kind='line',\n",
    "    height=7,\n",
    "    aspect=3\n",
    ")"
   ]
  },
  {
   "cell_type": "code",
   "execution_count": null,
   "metadata": {},
   "outputs": [],
   "source": [
    "sns.relplot(\n",
    "    data=london_air_traffic_stringency[london_air_traffic_stringency['Transport mode'] == 'Trucks'], \n",
    "    x='Date', \n",
    "    y='Count', \n",
    "    kind='line',\n",
    "    height=7,\n",
    "    aspect=3\n",
    ")"
   ]
  },
  {
   "cell_type": "code",
   "execution_count": null,
   "metadata": {},
   "outputs": [],
   "source": [
    "sns.relplot(\n",
    "    data=london_air_traffic_stringency, \n",
    "    y=\"Count\", \n",
    "    x=\"Date\", \n",
    "    hue='Transport mode', \n",
    "    kind='line')"
   ]
  },
  {
   "cell_type": "code",
   "execution_count": null,
   "metadata": {},
   "outputs": [],
   "source": [
    "## interesting here that while there was an increase in car usage as lockdown eased, other forms of transport did not increase in the same way."
   ]
  },
  {
   "cell_type": "code",
   "execution_count": null,
   "metadata": {},
   "outputs": [],
   "source": []
  }
 ],
 "metadata": {
  "kernelspec": {
   "display_name": "Python 3",
   "language": "python",
   "name": "python3"
  },
  "language_info": {
   "codemirror_mode": {
    "name": "ipython",
    "version": 3
   },
   "file_extension": ".py",
   "mimetype": "text/x-python",
   "name": "python",
   "nbconvert_exporter": "python",
   "pygments_lexer": "ipython3",
   "version": "3.7.6"
  }
 },
 "nbformat": 4,
 "nbformat_minor": 4
}
