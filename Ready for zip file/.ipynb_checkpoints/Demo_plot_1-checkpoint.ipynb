{
 "cells": [
  {
   "cell_type": "markdown",
   "metadata": {
    "extensions": {
     "jupyter_dashboards": {
      "version": 1,
      "views": {
       "grid_default": {},
       "report_default": {}
      }
     }
    }
   },
   "source": [
    "# Plotting Country Data - vizualizing entire date range at once, but only for a single country (with option to select country)\n",
    "\n",
    "Please ensure all listed packages are installed and run all the code in this notebook to produce the interactive plot. "
   ]
  },
  {
   "cell_type": "code",
   "execution_count": 1,
   "metadata": {
    "extensions": {
     "jupyter_dashboards": {
      "version": 1,
      "views": {
       "grid_default": {},
       "report_default": {}
      }
     }
    }
   },
   "outputs": [],
   "source": [
    "import numpy as np\n",
    "import pandas as pd\n",
    "import seaborn as sns\n",
    "import requests\n",
    "import matplotlib\n",
    "import matplotlib.pyplot as pp\n",
    "import ipywidgets as widgets\n",
    "from ipywidgets import IntRangeSlider, SelectMultiple\n",
    "from IPython.display import display\n",
    "\n",
    "\n",
    "%matplotlib inline"
   ]
  },
  {
   "cell_type": "code",
   "execution_count": 2,
   "metadata": {
    "extensions": {
     "jupyter_dashboards": {
      "version": 1,
      "views": {
       "grid_default": {},
       "report_default": {}
      }
     }
    }
   },
   "outputs": [],
   "source": [
    "#load country data\n",
    "data = pd.read_csv(\"Cleaned_data/final_country_data_by_quarter_elec_mob_strin.csv\")\n",
    "\n",
    "#rename the Deaths by 100,000 and Cases by 100,000 column because I was running into some trouble for some reason\n",
    "data.columns = ['CountryName', 'Year', 'Month', 'Quarter', 'max_StIn', 'min_StIn',\n",
    "       'max_StInDis', 'min_StInDis', 'ConfirmedCases', 'ConfirmedDeaths',\n",
    "       'avg_residential_mobility_from_baseline',\n",
    "       'avg_workplace_mobility_from_baseline', 'TWh', 'Percent_Month_2019',\n",
    "       'Date', 'fake day', 'Date_Est', 'Deaths_by_100k',\n",
    "       'Cases_by_100k']"
   ]
  },
  {
   "cell_type": "markdown",
   "metadata": {
    "extensions": {
     "jupyter_dashboards": {
      "version": 1,
      "views": {
       "grid_default": {},
       "report_default": {}
      }
     }
    }
   },
   "source": [
    "## Definition of plot function "
   ]
  },
  {
   "cell_type": "code",
   "execution_count": 3,
   "metadata": {
    "extensions": {
     "jupyter_dashboards": {
      "version": 1,
      "views": {
       "grid_default": {},
       "report_default": {}
      }
     }
    }
   },
   "outputs": [],
   "source": [
    "def plot_features(country):\n",
    "    #make sure data is sorted by the approximate date (midpoint of the week in question)\n",
    "    data2 = data[data.CountryName == country].sort_values(by = ['Date_Est'], ascending = True)\n",
    "    \n",
    "    #make sure only the date range we want is included\n",
    "    df = data2.query('Date_Est> \"2020-01-01\"')\n",
    "    \n",
    "    #make date the index so we can use matplotlib's smart date plotting \n",
    "    df.set_index(['Date_Est'], inplace = True)\n",
    "   \n",
    "\n",
    "    #create figure\n",
    "    fig, ax1 = pp.subplots(figsize = (10, 7))\n",
    "\n",
    "    #overall figure title. Use F-string so that this changes based on the country entered\n",
    "    fig.suptitle(f'{country}: Changes in Stringency, Mobility, and Electricity Consumption During Covid-19', fontsize=16)\n",
    "\n",
    "\n",
    "    #create first subplot, both suplots will be on the same X axis. We only have to define the X axis once\n",
    "    ax1.set_xlabel('Date', size = 13)\n",
    "    #label the y axis\n",
    "    ax1.set_ylabel ('Electricity Usage and Stringency Index', size = 13)\n",
    "    #plot the stringency index\n",
    "    lns1 = ax1.plot(df['max_StInDis'], color='red', label = 'Stringency Index')\n",
    "    #plot the electricity usage on the same x-y axes\n",
    "    lns2 = ax1.plot(df['Percent_Month_2019'], color = 'blue', label = 'Electricity Usage as a Percent of the 2019 Usage in the Same Month')\n",
    "    #set y axis limits\n",
    "    ax1.set_ylim(0,120)\n",
    "    #autofit the x axis to the date\n",
    "    fig.autofmt_xdate()\n",
    "    #remove every second date label so it is less squished\n",
    "    for label in ax1.xaxis.get_ticklabels()[::2]:\n",
    "        label.set_visible(False)\n",
    "\n",
    "    \n",
    "    #create twin axis so we can plot mobility which has a different y-axis scale\n",
    "    ax2 = ax1.twinx()  # instantiate a second axes that shares the same x-axis\n",
    "    ax2.invert_yaxis() #invert the y axis since change in mobility is negative but it will be more understandable plotted this way\n",
    "\n",
    "    #plot change in mobility and appropriate labels etc.\n",
    "    color = 'green' \n",
    "    lns3 = ax2.plot(df['avg_workplace_mobility_from_baseline'], color=color, label = 'Change in Workplace Mobility From Baseline')\n",
    "    ax2.set_ylabel('Change in Workplace Mobility From Baseline', size = 13)\n",
    "    ax2.tick_params(axis='y', labelcolor=color)\n",
    "    ax2.set_ylim(0,-100)\n",
    "\n",
    "    fig.tight_layout()  # otherwise the right y-label is slightly clipped\n",
    "    \n",
    "    # combine all three lines into one legend\n",
    "    lns = lns1+lns2+lns3\n",
    "    labs = [l.get_label() for l in lns]\n",
    "    ax1.legend(lns, labs, loc=0)\n",
    "    \n",
    "    pp.show()\n",
    "    \n",
    "    \n"
   ]
  },
  {
   "cell_type": "markdown",
   "metadata": {
    "extensions": {
     "jupyter_dashboards": {
      "version": 1,
      "views": {
       "grid_default": {},
       "report_default": {}
      }
     }
    }
   },
   "source": [
    "## Creation of Interactive Plot"
   ]
  },
  {
   "cell_type": "code",
   "execution_count": 4,
   "metadata": {
    "extensions": {
     "jupyter_dashboards": {
      "version": 1,
      "views": {
       "grid_default": {},
       "report_default": {}
      }
     }
    }
   },
   "outputs": [
    {
     "data": {
      "application/vnd.jupyter.widget-view+json": {
       "model_id": "9b8a64b159ba4211b655df881bd1d671",
       "version_major": 2,
       "version_minor": 0
      },
      "text/plain": [
       "interactive(children=(Dropdown(description='Country', options=('Belgium', 'Bulgaria', 'Czech Republic', 'Denma…"
      ]
     },
     "metadata": {},
     "output_type": "display_data"
    },
    {
     "data": {
      "text/plain": [
       "<function __main__.plot_features(country)>"
      ]
     },
     "execution_count": 4,
     "metadata": {},
     "output_type": "execute_result"
    }
   ],
   "source": [
    "#make interactive plot that allows you to plot two features of your choice by a selected country\n",
    "# Add a slider\n",
    "\n",
    "Europe = ['Belgium', 'Bulgaria', 'Czech Republic', 'Denmark', 'Germany', 'Estonia', 'Ireland', 'Greece', 'Spain', 'France', \n",
    "              'Croatia', 'Italy', 'Cyprus', 'Latvia', 'Lithuania', 'Luxembourg', 'Hungary', 'Netherlands', 'Austria', \n",
    "              'Poland', 'Portugal', 'Romania','Slovenia', 'Slovak Republic', 'Finland', 'Sweden', 'United Kingdom']\n",
    "\n",
    "country_select = widgets.Dropdown(options = Europe, description = 'Country')\n",
    "\n",
    "\n",
    "# Hook it up to interact\n",
    "from ipywidgets import interact\n",
    "interact(\n",
    "    plot_features,\n",
    "    country = country_select,\n",
    ")"
   ]
  },
  {
   "cell_type": "markdown",
   "metadata": {},
   "source": [
    "## We can see that mobility around the workplace generally follows stringency during early implementation of stringency measures (less workplace visitation when stringency index increases), and that we see a decrease in electricity usage, especially during April and May, but that the difference decreases towards June"
   ]
  }
 ],
 "metadata": {
  "extensions": {
   "jupyter_dashboards": {
    "activeView": "grid_default",
    "version": 1,
    "views": {
     "grid_default": {
      "cellMargin": 10,
      "defaultCellHeight": 20,
      "maxColumns": 12,
      "name": "grid",
      "type": "grid"
     },
     "report_default": {
      "name": "report",
      "type": "report"
     }
    }
   }
  },
  "kernelspec": {
   "display_name": "Python 3",
   "language": "python",
   "name": "python3"
  },
  "language_info": {
   "codemirror_mode": {
    "name": "ipython",
    "version": 3
   },
   "file_extension": ".py",
   "mimetype": "text/x-python",
   "name": "python",
   "nbconvert_exporter": "python",
   "pygments_lexer": "ipython3",
   "version": "3.7.7"
  }
 },
 "nbformat": 4,
 "nbformat_minor": 4
}
