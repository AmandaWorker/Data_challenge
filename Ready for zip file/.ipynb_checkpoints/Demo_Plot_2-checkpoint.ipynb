{
 "cells": [
  {
   "cell_type": "markdown",
   "metadata": {},
   "source": [
    "# Plotting Country Data - visualizing all countries at once, with plot changing across time\n",
    "\n",
    "Please ensure all listed packages are installed and run all the code in this notebook to produce the interactive plot. "
   ]
  },
  {
   "cell_type": "code",
   "execution_count": 1,
   "metadata": {},
   "outputs": [],
   "source": [
    "import numpy as np\n",
    "import pandas as pd\n",
    "import seaborn as sns\n",
    "import datetime as dt\n",
    "import requests\n",
    "import matplotlib\n",
    "import matplotlib.pyplot as pp\n",
    "import mplcursors\n",
    "import ipywidgets as widgets\n",
    "from ipywidgets import IntRangeSlider, SelectMultiple\n",
    "from IPython.display import display\n",
    "from ipywidgets import interact\n",
    "\n",
    "\n",
    "%matplotlib inline"
   ]
  },
  {
   "cell_type": "code",
   "execution_count": 2,
   "metadata": {},
   "outputs": [],
   "source": [
    "#load country data\n",
    "\n",
    "data = pd.read_csv(\"Cleaned_data/final_country_data_by_quarter_elec_mob_strin.csv\")\n",
    "\n",
    "#rename the Deaths by 100,000 and Cases by 100,000 column because I was running into some trouble for some reason\n",
    "\n",
    "data.columns = ['CountryName', 'Year', 'Month', 'Quarter', 'max_StIn', 'min_StIn',\n",
    "       'max_StInDis', 'min_StInDis', 'ConfirmedCases', 'ConfirmedDeaths',\n",
    "       'avg_residential_mobility_from_baseline',\n",
    "       'avg_workplace_mobility_from_baseline', 'TWh', 'Percent_Month_2019',\n",
    "       'Date', 'fake day', 'Date_Est', 'Deaths_by_100k',\n",
    "       'Cases_by_100k']"
   ]
  },
  {
   "cell_type": "markdown",
   "metadata": {},
   "source": [
    "# Definition of plotting function and sliders"
   ]
  },
  {
   "cell_type": "code",
   "execution_count": 3,
   "metadata": {},
   "outputs": [],
   "source": [
    "# order dataset by date\n",
    "df1 = data.sort_values(by = ['Date_Est'], ascending = True)\n",
    "\n",
    "#select what data we actually want to include for the slider\n",
    "df2 = df1[(df1['Date_Est'] > \"2020-02-17\") & (df1['Date_Est'] < \"2020-07-01\")]\n",
    "\n",
    "#make date list for the slider\n",
    "df3 = df2[['Date_Est']].drop_duplicates()\n",
    "date_list = df3.Date_Est.tolist()\n",
    "date_list\n",
    "\n",
    "#create slider\n",
    "date_slider = widgets.SelectionSlider(\n",
    "    options=date_list,\n",
    "    description='Date',\n",
    "    disabled=False,\n",
    "    continuous_update=True,\n",
    "    orientation='horizontal',\n",
    "    readout=True\n",
    ")"
   ]
  },
  {
   "cell_type": "code",
   "execution_count": 14,
   "metadata": {},
   "outputs": [],
   "source": [
    "def plotyear(date):\n",
    "    df = data[data.Date_Est == date].sort_values('TWh',ascending = False)\n",
    "    area = (-30) * df.avg_workplace_mobility_from_baseline\n",
    "    color = 'tab:gray'\n",
    "    \n",
    "    xs = df.max_StInDis\n",
    "    ys = df.Percent_Month_2019\n",
    "    ls = df.CountryName\n",
    "    \n",
    "    df.plot.scatter(['max_StInDis'], ['Percent_Month_2019'], \n",
    "                      s=area,c = color,\n",
    "                      vmin = 55, vmax = 100,\n",
    "                     linewidths=1,\n",
    "                      edgecolors= 'black',\n",
    "                      sharex=False,\n",
    "                     figsize = (15,8),\n",
    "                   ylim = (50, 120), xlim = (0, 100))\n",
    "    \n",
    "    for x,y,label in zip(xs,ys,ls):\n",
    "\n",
    "        pp.annotate(label, # this is the text\n",
    "                     (x,y), # this is the point to label\n",
    "                     textcoords=\"offset points\", # how to position the text\n",
    "                     xytext=(0,20), # distance from text to points (x,y)\n",
    "                     ha='center') # horizontal alignment can be left, right or center\n",
    "  \n",
    "\n",
    "    pp.title('The relationship between stringency, mobility, and electricity usage', size = 16, pad = 40)\n",
    "    pp.xlabel('Stringency Index', size = 13)\n",
    "    pp.ylabel('Electricity Usage as a Percentage of 2019 Usage in the Same Month', size = 13)\n",
    "    pp.figtext(.7,.9,'Circle size represents decrease in mobility around the workplace', fontsize=13, ha='right')\n",
    "\n",
    "    pp.show()"
   ]
  },
  {
   "cell_type": "markdown",
   "metadata": {},
   "source": [
    "# Creation of Interactive Plot"
   ]
  },
  {
   "cell_type": "code",
   "execution_count": 15,
   "metadata": {},
   "outputs": [
    {
     "data": {
      "application/vnd.jupyter.widget-view+json": {
       "model_id": "47db8d466e47476cb52263f0d6d66c48",
       "version_major": 2,
       "version_minor": 0
      },
      "text/plain": [
       "interactive(children=(SelectionSlider(description='Date', index=14, options=('2020-02-18', '2020-02-25', '2020…"
      ]
     },
     "metadata": {},
     "output_type": "display_data"
    },
    {
     "data": {
      "text/plain": [
       "<function __main__.plotyear(date)>"
      ]
     },
     "execution_count": 15,
     "metadata": {},
     "output_type": "execute_result"
    }
   ],
   "source": [
    "#create plot\n",
    "interact(plotyear, date = date_slider)"
   ]
  }
 ],
 "metadata": {
  "kernelspec": {
   "display_name": "Python 3",
   "language": "python",
   "name": "python3"
  },
  "language_info": {
   "codemirror_mode": {
    "name": "ipython",
    "version": 3
   },
   "file_extension": ".py",
   "mimetype": "text/x-python",
   "name": "python",
   "nbconvert_exporter": "python",
   "pygments_lexer": "ipython3",
   "version": "3.7.7"
  }
 },
 "nbformat": 4,
 "nbformat_minor": 4
}
